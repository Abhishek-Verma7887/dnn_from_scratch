{
 "cells": [
  {
   "cell_type": "code",
   "execution_count": 1,
   "metadata": {},
   "outputs": [],
   "source": [
    "import ctypes\n",
    "import numpy as np"
   ]
  },
  {
   "cell_type": "code",
   "execution_count": 2,
   "metadata": {},
   "outputs": [],
   "source": [
    "def init_kernel_bias(num_inp_channels, kernel_size, num_kernels,mean=0,std=0.01):\n",
    "    shape = [num_inp_channels, kernel_size, kernel_size, num_kernels]\n",
    "    weights = std*np.random.randn(*shape) + mean\n",
    "    # weights/=np.sqrt(num_inp_channels)\n",
    "    bias = std*np.random.randn(1,num_kernels) + mean\n",
    "    return weights.astype(np.float32), bias.astype(np.float32)"
   ]
  },
  {
   "cell_type": "code",
   "execution_count": 3,
   "metadata": {},
   "outputs": [],
   "source": [
    "w0,b0=init_kernel_bias(num_inp_channels=32,kernel_size=3,num_kernels=128)"
   ]
  },
  {
   "cell_type": "code",
   "execution_count": 4,
   "metadata": {},
   "outputs": [],
   "source": [
    "inp=np.random.randn(128,64,64,32).astype(np.float32)"
   ]
  },
  {
   "cell_type": "code",
   "execution_count": 5,
   "metadata": {},
   "outputs": [],
   "source": [
    "#inp[batches,row,col,d],w0(d,ksz,ksz,num_ker),b0[1,num_ker],stride[row,col]\n",
    "padding=0\n",
    "stride=[1,1]\n",
    "ipp=inp.transpose(0,3,1,2)  #ipp[batches,d,row,col]\n",
    "output=[]\n",
    "ksz=w0.shape[1]\n",
    "num_ker=w0.shape[3]\n",
    "if not padding: #take care of padding in backprop too\n",
    "    padding=(ksz-1)//2  #currently don't give 'even' ksz\n",
    "out_row,out_col=((ipp.shape[2]-ksz+2*padding)//stride[0]+1),((ipp.shape[3]-ksz+2*padding)//stride[1]+1)\n",
    "batches,d,row,col=ipp.shape\n",
    "row+=2*padding\n",
    "col+=2*padding\n",
    "padded=np.zeros((batches,d,row,col)).astype(np.float32)\n",
    "padded[:,:,padding:-padding,padding:-padding]=ipp"
   ]
  },
  {
   "cell_type": "code",
   "execution_count": 6,
   "metadata": {},
   "outputs": [],
   "source": [
    "img=padded[0]"
   ]
  },
  {
   "cell_type": "code",
   "execution_count": 7,
   "metadata": {},
   "outputs": [],
   "source": [
    "# %%timeit\n",
    "window=(np.arange(ksz)[:,None]*row+np.arange(ksz)).ravel()+np.arange(d)[:,None]*row*col\n",
    "slider=(np.arange(out_row*stride[0])[:,None]*row+np.arange(out_col*stride[1]))\n",
    "ind = window.ravel()+slider[::stride[0],::stride[1]].ravel()[:,None]\n",
    "# bind= np.arange(batches)[:,None]*d*row*col+ind.ravel()\n",
    "kern = w0.reshape(-1,num_ker)\n",
    "# output=(np.dot(np.take(padded, bind).reshape(-1,d*ksz*ksz), kern)).reshape(batches,out_row,out_col,num_ker)"
   ]
  },
  {
   "cell_type": "code",
   "execution_count": 22,
   "metadata": {},
   "outputs": [
    {
     "name": "stdout",
     "output_type": "stream",
     "text": [
      "CPU times: user 3.01 s, sys: 220 ms, total: 3.23 s\n",
      "Wall time: 844 ms\n"
     ]
    }
   ],
   "source": [
    "%%time\n",
    "output=np.empty((batches,out_row*out_col,num_ker),dtype=np.float32)\n",
    "for i,img in enumerate(padded):      #img[d,row,col]\n",
    "    # windows(out_row*out_col, ksz*ksz*d) . kernels(d*ksz*ksz,num_ker)\n",
    "    output[i]=np.dot(img.take(ind), kern)\n",
    "# output+=b0\n",
    "ans2=output.reshape(batches,out_row,out_col,num_ker)"
   ]
  },
  {
   "cell_type": "code",
   "execution_count": 9,
   "metadata": {},
   "outputs": [
    {
     "name": "stdout",
     "output_type": "stream",
     "text": [
      "CPU times: user 255 ms, sys: 39.9 ms, total: 295 ms\n",
      "Wall time: 294 ms\n"
     ]
    }
   ],
   "source": [
    "%%time\n",
    "coled=np.empty((batches,*ind.shape),dtype=np.float32)#,order='F')\n",
    "for i,img in enumerate(padded):      #img[d,row,col]\n",
    "    # windows(out_row*out_col, ksz*ksz*d) . kernels(d*ksz*ksz,num_ker)\n",
    "    coled[i]=img.take(ind)\n",
    "# output+=b0\n",
    "# ans2=output.reshape(batches,out_row,out_col,num_ker)\n",
    "# output=(np.dot(np.take(padded, bind), self.kern)+self.biases)\n",
    "# print(coled.nbytes/1024/1024)"
   ]
  },
  {
   "cell_type": "code",
   "execution_count": 10,
   "metadata": {},
   "outputs": [
    {
     "name": "stdout",
     "output_type": "stream",
     "text": [
      "CPU times: user 13 µs, sys: 0 ns, total: 13 µs\n",
      "Wall time: 15.7 µs\n"
     ]
    }
   ],
   "source": [
    "%%time\n",
    "a=coled.reshape(-1,d*ksz*ksz)\n",
    "b=kern.reshape(d*ksz*ksz,-1)\n",
    "(a.nbytes+b.nbytes)/1024/1024"
   ]
  },
  {
   "cell_type": "code",
   "execution_count": 25,
   "metadata": {},
   "outputs": [
    {
     "data": {
      "text/plain": [
       "256.0"
      ]
     },
     "execution_count": 25,
     "metadata": {},
     "output_type": "execute_result"
    }
   ],
   "source": [
    "c=np.empty((a.shape[0],b.shape[1]),dtype=np.float32,order='F')\n",
    "c.nbytes/1024/1024"
   ]
  },
  {
   "cell_type": "code",
   "execution_count": 26,
   "metadata": {},
   "outputs": [
    {
     "name": "stdout",
     "output_type": "stream",
     "text": [
      "CPU times: user 13 µs, sys: 1e+03 ns, total: 14 µs\n",
      "Wall time: 17.2 µs\n"
     ]
    }
   ],
   "source": [
    "%%time\n",
    "a=np.asfortranarray(a)\n",
    "b=np.asfortranarray(b)\n",
    "c=np.asfortranarray(c)"
   ]
  },
  {
   "cell_type": "code",
   "execution_count": 27,
   "metadata": {},
   "outputs": [
    {
     "data": {
      "text/plain": [
       "True"
      ]
     },
     "execution_count": 27,
     "metadata": {},
     "output_type": "execute_result"
    }
   ],
   "source": [
    "np.isfortran(c)"
   ]
  },
  {
   "cell_type": "code",
   "execution_count": 28,
   "metadata": {},
   "outputs": [
    {
     "data": {
      "text/plain": [
       "array([[0., 0., 0., ..., 0., 0., 0.],\n",
       "       [0., 0., 0., ..., 0., 0., 0.],\n",
       "       [0., 0., 0., ..., 0., 0., 0.],\n",
       "       ...,\n",
       "       [0., 0., 0., ..., 0., 0., 0.],\n",
       "       [0., 0., 0., ..., 0., 0., 0.],\n",
       "       [0., 0., 0., ..., 0., 0., 0.]], dtype=float32)"
      ]
     },
     "execution_count": 28,
     "metadata": {},
     "output_type": "execute_result"
    }
   ],
   "source": [
    "c"
   ]
  },
  {
   "cell_type": "code",
   "execution_count": 15,
   "metadata": {},
   "outputs": [],
   "source": [
    "sgemm=ctypes.CDLL('libsgemm.so')"
   ]
  },
  {
   "cell_type": "code",
   "execution_count": 16,
   "metadata": {},
   "outputs": [],
   "source": [
    "al,bet=1,1"
   ]
  },
  {
   "cell_type": "code",
   "execution_count": 17,
   "metadata": {
    "scrolled": false
   },
   "outputs": [
    {
     "name": "stdout",
     "output_type": "stream",
     "text": [
      "CPU times: user 655 ms, sys: 345 ms, total: 1e+03 ms\n",
      "Wall time: 1 s\n"
     ]
    },
    {
     "data": {
      "text/plain": [
       "0"
      ]
     },
     "execution_count": 17,
     "metadata": {},
     "output_type": "execute_result"
    }
   ],
   "source": [
    "%%time\n",
    "sgemm.gemm(ctypes.c_void_p(a.ctypes.data),ctypes.c_void_p(b.ctypes.data),ctypes.c_void_p(c.ctypes.data),a.shape[0],b.shape[0],c.shape[1],ctypes.c_float(al),ctypes.c_float(bet),ctypes.c_void_p(b0[0].ctypes.data))"
   ]
  },
  {
   "cell_type": "code",
   "execution_count": 18,
   "metadata": {},
   "outputs": [
    {
     "data": {
      "text/plain": [
       "(524288, 288, 128)"
      ]
     },
     "execution_count": 18,
     "metadata": {},
     "output_type": "execute_result"
    }
   ],
   "source": [
    "a.shape[0],b.shape[0],c.shape[1]"
   ]
  },
  {
   "cell_type": "code",
   "execution_count": 19,
   "metadata": {
    "scrolled": true
   },
   "outputs": [],
   "source": [
    "# al*np.dot(a,b)+bet*c"
   ]
  },
  {
   "cell_type": "code",
   "execution_count": 20,
   "metadata": {},
   "outputs": [
    {
     "data": {
      "text/plain": [
       "array([[ 0.04752279,  0.01789882,  0.22528622, ...,  0.08359388,\n",
       "        -0.11860363,  0.03961049],\n",
       "       [ 0.15305048,  0.06723985, -0.2359069 , ...,  0.33198187,\n",
       "        -0.12861888, -0.10043315],\n",
       "       [ 0.10796219,  0.1838205 , -0.20515937, ...,  0.04283091,\n",
       "         0.13516037, -0.20007604],\n",
       "       ...,\n",
       "       [ 0.09197106,  0.16292071, -0.19378963, ...,  0.06512031,\n",
       "        -0.05821431, -0.14989364],\n",
       "       [ 0.12678374, -0.16552833, -0.01943905, ..., -0.22675996,\n",
       "        -0.13070531, -0.11424434],\n",
       "       [-0.08691256, -0.18982828, -0.14254744, ..., -0.0224365 ,\n",
       "        -0.09677073,  0.05016772]], dtype=float32)"
      ]
     },
     "execution_count": 20,
     "metadata": {},
     "output_type": "execute_result"
    }
   ],
   "source": [
    "c"
   ]
  },
  {
   "cell_type": "code",
   "execution_count": 23,
   "metadata": {},
   "outputs": [
    {
     "data": {
      "text/plain": [
       "array([[ 0.04752279,  0.01789882,  0.22528622, ...,  0.08359388,\n",
       "        -0.11860363,  0.03961049],\n",
       "       [ 0.15305048,  0.06723985, -0.2359069 , ...,  0.33198187,\n",
       "        -0.12861888, -0.10043315],\n",
       "       [ 0.10796219,  0.1838205 , -0.20515937, ...,  0.04283091,\n",
       "         0.13516037, -0.20007604],\n",
       "       ...,\n",
       "       [ 0.09197106,  0.16292071, -0.19378963, ...,  0.06512031,\n",
       "        -0.05821431, -0.14989364],\n",
       "       [ 0.12678374, -0.16552833, -0.01943905, ..., -0.22675996,\n",
       "        -0.13070531, -0.11424434],\n",
       "       [-0.08691256, -0.18982828, -0.14254744, ..., -0.0224365 ,\n",
       "        -0.09677073,  0.05016772]], dtype=float32)"
      ]
     },
     "execution_count": 23,
     "metadata": {},
     "output_type": "execute_result"
    }
   ],
   "source": [
    "ans2.reshape(-1,128)"
   ]
  },
  {
   "cell_type": "code",
   "execution_count": 24,
   "metadata": {},
   "outputs": [
    {
     "data": {
      "text/plain": [
       "True"
      ]
     },
     "execution_count": 24,
     "metadata": {},
     "output_type": "execute_result"
    }
   ],
   "source": [
    "(c==ans2.reshape(-1,128)).all()"
   ]
  },
  {
   "cell_type": "code",
   "execution_count": 28,
   "metadata": {},
   "outputs": [],
   "source": [
    "a=(np.arange(30)+11).reshape(6,5,order='F').astype(np.float32)  #mxk"
   ]
  },
  {
   "cell_type": "code",
   "execution_count": 29,
   "metadata": {},
   "outputs": [],
   "source": [
    "b=(np.arange(20)+11).reshape(5,4,order='F').astype(np.float32)  #kxn"
   ]
  },
  {
   "cell_type": "code",
   "execution_count": 30,
   "metadata": {},
   "outputs": [],
   "source": [
    "c=(np.arange(24)*0).reshape(6,4,order='F').astype(np.float32)  #mxn"
   ]
  },
  {
   "cell_type": "code",
   "execution_count": null,
   "metadata": {},
   "outputs": [],
   "source": []
  }
 ],
 "metadata": {
  "kernelspec": {
   "display_name": "Python 3",
   "language": "python",
   "name": "python3"
  },
  "language_info": {
   "codemirror_mode": {
    "name": "ipython",
    "version": 3
   },
   "file_extension": ".py",
   "mimetype": "text/x-python",
   "name": "python",
   "nbconvert_exporter": "python",
   "pygments_lexer": "ipython3",
   "version": "3.7.3"
  }
 },
 "nbformat": 4,
 "nbformat_minor": 2
}
