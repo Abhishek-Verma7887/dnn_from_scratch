{
 "cells": [
  {
   "cell_type": "code",
   "execution_count": 1,
   "metadata": {},
   "outputs": [],
   "source": [
    "import timeit\n",
    "import matplotlib.pyplot as plt\n",
    "import pickle\n",
    "from mnist import MNIST\n",
    "from time import time"
   ]
  },
  {
   "cell_type": "code",
   "execution_count": 2,
   "metadata": {},
   "outputs": [
    {
     "name": "stdout",
     "output_type": "stream",
     "text": [
      "Loading dataset....\n",
      "Done.\n"
     ]
    }
   ],
   "source": [
    "print(\"Loading dataset....\")\n",
    "mndata = MNIST('../mnist_dataset')\n",
    "X_train, y_train = mndata.load_training()\n",
    "X_train = (mndata.process_images_to_numpy(X_train)/255)\n",
    "X_test, y_test = mndata.load_testing()\n",
    "X_test = (mndata.process_images_to_numpy(X_test)/255)\n",
    "print(\"Done.\")"
   ]
  },
  {
   "cell_type": "code",
   "execution_count": 3,
   "metadata": {},
   "outputs": [],
   "source": [
    "def one_hot_encode(labels):\n",
    "    y_inp=np.zeros((len(labels),10))\n",
    "    for ind,val in enumerate(labels):\n",
    "        y_inp[ind][val]=1\n",
    "    return y_inp"
   ]
  },
  {
   "cell_type": "code",
   "execution_count": 4,
   "metadata": {},
   "outputs": [],
   "source": [
    "def batch_gen(st=0,size=20,validate=False):\n",
    "    st=st%60000\n",
    "    if validate:\n",
    "        X=X_test[st:st+size].reshape(-1,28,28,1)\n",
    "        labels=y_test[st:st+size]\n",
    "    else:\n",
    "        X=X_train[st:st+size].reshape(-1,28,28,1)\n",
    "        labels=y_train[st:st+size]\n",
    "    y=one_hot_encode(labels)\n",
    "    return X,y"
   ]
  },
  {
   "cell_type": "markdown",
   "metadata": {},
   "source": [
    "# Import network, layers and functions"
   ]
  },
  {
   "cell_type": "code",
   "execution_count": 5,
   "metadata": {},
   "outputs": [],
   "source": [
    "from network import Sequential,layers\n",
    "from layers import conv2d,max_pool,flatten,dense\n",
    "import functions\n",
    "import numpy as np"
   ]
  },
  {
   "cell_type": "markdown",
   "metadata": {},
   "source": [
    "# Make Sequential Model"
   ]
  },
  {
   "cell_type": "code",
   "execution_count": 6,
   "metadata": {},
   "outputs": [],
   "source": [
    "model=Sequential()"
   ]
  },
  {
   "cell_type": "code",
   "execution_count": 7,
   "metadata": {},
   "outputs": [],
   "source": [
    "model.add(conv2d(input_shape=(28,28,1),num_kernels=6,kernel_size=3,activation=functions.relu))\n",
    "model.add(max_pool())\n",
    "model.add(conv2d(num_kernels=16,kernel_size=3,activation=functions.relu))\n",
    "model.add(max_pool())\n",
    "model.add(flatten())\n",
    "model.add(dense(256,activation=functions.relu))\n",
    "model.add(dense(10,activation=functions.softmax))"
   ]
  },
  {
   "cell_type": "markdown",
   "metadata": {},
   "source": [
    "# View Model Summary"
   ]
  },
  {
   "cell_type": "code",
   "execution_count": 8,
   "metadata": {},
   "outputs": [
    {
     "name": "stdout",
     "output_type": "stream",
     "text": [
      "⎽⎽⎽⎽⎽⎽⎽⎽⎽⎽⎽⎽⎽⎽⎽⎽⎽⎽⎽⎽⎽⎽⎽⎽⎽⎽⎽⎽⎽⎽⎽⎽⎽⎽⎽⎽⎽⎽⎽⎽⎽⎽⎽⎽⎽⎽⎽⎽⎽⎽⎽⎽⎽⎽⎽⎽⎽⎽⎽⎽⎽⎽⎽⎽⎽⎽⎽⎽⎽⎽⎽⎽⎽⎽⎽⎽⎽⎽⎽⎽⎽⎽⎽⎽⎽⎽⎽⎽⎽⎽\n",
      "Name (type)                     Output Shape             Activation        Param #\n",
      "==========================================================================================\n",
      "input_layer (InputLayer)       (None, 28, 28, 1)          echo             0\n",
      "__________________________________________________________________________________________\n",
      "conv2d (conv2d)                (None, 28, 28, 6)          relu             60\n",
      "__________________________________________________________________________________________\n",
      "max_pool (max_pool)            (None, 14, 14, 6)          echo             0\n",
      "__________________________________________________________________________________________\n",
      "conv2d (conv2d)                (None, 14, 14, 16)         relu             880\n",
      "__________________________________________________________________________________________\n",
      "max_pool (max_pool)            (None, 7, 7, 16)           echo             0\n",
      "__________________________________________________________________________________________\n",
      "flatten (flatten)              (None, 784)                echo             0\n",
      "__________________________________________________________________________________________\n",
      "dense (dense)                  (None, 256)                relu             200960\n",
      "__________________________________________________________________________________________\n",
      "dense (dense)                  (None, 10)                 softmax          2570\n",
      "==========================================================================================\n",
      "Total Params: 204470\n"
     ]
    }
   ],
   "source": [
    "model.summary()"
   ]
  },
  {
   "cell_type": "markdown",
   "metadata": {},
   "source": [
    "# Compile model with optimizer, loss and lr"
   ]
  },
  {
   "cell_type": "code",
   "execution_count": 9,
   "metadata": {},
   "outputs": [],
   "source": [
    "model.compile(optimizer=functions.adam,loss=functions.cross_entropy_with_logits,learning_rate=0.001)"
   ]
  },
  {
   "cell_type": "markdown",
   "metadata": {},
   "source": [
    "# Train model"
   ]
  },
  {
   "cell_type": "code",
   "execution_count": 10,
   "metadata": {},
   "outputs": [],
   "source": [
    "losses=[]\n",
    "train_acc=[]"
   ]
  },
  {
   "cell_type": "code",
   "execution_count": 11,
   "metadata": {},
   "outputs": [],
   "source": [
    "def validate():\n",
    "    print(\"Calculating Validation acc...\",end='')\n",
    "    sz=4000\n",
    "    #ck=0\n",
    "    ck=np.random.randint(0,10000-sz)\n",
    "    inp,y_inp=batch_gen(ck,size=sz,validate=True)\n",
    "    logits=model.predict(inp)\n",
    "    ans=logits.argmax(axis=1)\n",
    "    cor=y_inp.argmax(axis=1)\n",
    "    acc=100*(ans==cor).mean()\n",
    "    cross_entropy_loss=model.loss(logits,labels=y_inp).mean()*100\n",
    "    print(\"\\rValidation Acc: {:.3f} %        Val loss: {:.8f}\".format(acc,cross_entropy_loss))\n",
    "    if acc>=97:\n",
    "        model.learning_rate=0.00001\n",
    "    elif acc>=95:\n",
    "        model.learning_rate=0.0001"
   ]
  },
  {
   "cell_type": "code",
   "execution_count": 12,
   "metadata": {
    "scrolled": false
   },
   "outputs": [],
   "source": [
    "def run():\n",
    "    st=0\n",
    "    btsz=8\n",
    "    acc_tn=0\n",
    "    _cc=0\n",
    "    loss_tn=0\n",
    "    while st<=60000:\n",
    "        sam_tm=time()\n",
    "        perc=st/600\n",
    "        ck=np.random.randint(0,60000-btsz)\n",
    "        inp,y_inp=batch_gen(ck,size=btsz)\n",
    "        logits=model.fit(inp,y_inp)\n",
    "        ans=logits.argmax(axis=1)\n",
    "        cor=y_inp.argmax(axis=1)\n",
    "        acc=100*(ans==cor).mean()\n",
    "        cross_entropy_loss=model.loss(logits=logits,labels=y_inp).mean()*100\n",
    "        acc_tn+=acc\n",
    "        _cc+=1\n",
    "        loss_tn+=cross_entropy_loss\n",
    "        acc=acc_tn/_cc\n",
    "        loss_=loss_tn/_cc\n",
    "        losses.append(loss_)\n",
    "        train_acc.append(acc)\n",
    "        if acc>=98:\n",
    "            model.learning_rate=1e-5\n",
    "        elif acc>=97:\n",
    "            model.learning_rate=1e-5\n",
    "        elif acc>=95:\n",
    "            model.learning_rate=1e-4\n",
    "        sam_tm=time()-sam_tm\n",
    "        rem_sam=(60000-st)/btsz\n",
    "        eta=int(rem_sam*sam_tm)\n",
    "        print(\"\\rProgress: {:.2f} %    Acc: {:.3f} %    loss: {:.6f}     Sample time: {:.3f}s    ETA: {}:{}s    .\".format(perc,acc,loss_,sam_tm,eta//60,eta%60),end='')\n",
    "        st+=btsz\n",
    "    print(\"\")"
   ]
  },
  {
   "cell_type": "code",
   "execution_count": 13,
   "metadata": {
    "scrolled": false
   },
   "outputs": [
    {
     "name": "stdout",
     "output_type": "stream",
     "text": [
      "EPOCH: 1 / 1\n",
      "Progress: 100.00 %    Acc: 96.122 %    loss: 1.368466     Sample time: 0.016s    ETA: 0:0s    .\n",
      "Epoch time: 1:24s\n",
      "Validation Acc: 99.000 %        Val loss: 0.33040938\n"
     ]
    }
   ],
   "source": [
    "epochs=1\n",
    "for epoch in range(epochs):\n",
    "    print(\"EPOCH:\",epoch+1,'/',epochs)\n",
    "    st_tm=time()\n",
    "    run()\n",
    "    print(\"Epoch time: {}:{}s\".format(int(time()-st_tm)//60,int(time()-st_tm)%60))\n",
    "    validate()"
   ]
  },
  {
   "cell_type": "code",
   "execution_count": 14,
   "metadata": {},
   "outputs": [
    {
     "data": {
      "image/png": "[encoded data removed]",
      "text/plain": [
       "<Figure size 2160x720 with 1 Axes>"
      ]
     },
     "metadata": {
      "needs_background": "light"
     },
     "output_type": "display_data"
    }
   ],
   "source": [
    "plt.figure(figsize=(30,10))\n",
    "plt.plot(losses,color='#ff7f0e')\n",
    "plt.show()"
   ]
  },
  {
   "cell_type": "code",
   "execution_count": 15,
   "metadata": {},
   "outputs": [
    {
     "data": {
      "image/png": "[encoded data removed]",
      "text/plain": [
       "<Figure size 2160x720 with 1 Axes>"
      ]
     },
     "metadata": {
      "needs_background": "light"
     },
     "output_type": "display_data"
    }
   ],
   "source": [
    "plt.figure(figsize=(30,10))\n",
    "plt.plot(train_acc,color='#ff7f0e')\n",
    "plt.show()"
   ]
  },
  {
   "cell_type": "code",
   "execution_count": 16,
   "metadata": {},
   "outputs": [
    {
     "name": "stdout",
     "output_type": "stream",
     "text": [
      "Prediction: [5] \n",
      "Correct:    [5]\n"
     ]
    },
    {
     "data": {
      "text/plain": [
       "<matplotlib.image.AxesImage at 0x7f6ba41a97f0>"
      ]
     },
     "execution_count": 16,
     "metadata": {},
     "output_type": "execute_result"
    },
    {
     "data": {
      "image/png": "[encoded data removed]",
      "text/plain": [
       "<Figure size 432x288 with 1 Axes>"
      ]
     },
     "metadata": {
      "needs_background": "light"
     },
     "output_type": "display_data"
    }
   ],
   "source": [
    "ck=np.random.randint(0,60000-100)\n",
    "inp,y_inp=batch_gen(ck,size=1)\n",
    "logits=model.predict(inp)\n",
    "ans=logits.argmax(axis=1)\n",
    "cor=y_inp.argmax(axis=1)\n",
    "print(\"Prediction:\",ans,\"\\nCorrect:   \",cor)\n",
    "plt.imshow(inp[0].reshape(28,28), cmap='Greys')"
   ]
  },
  {
   "cell_type": "code",
   "execution_count": 17,
   "metadata": {},
   "outputs": [
    {
     "data": {
      "image/png": "[encoded data removed]",
      "text/plain": [
       "<Figure size 720x720 with 16 Axes>"
      ]
     },
     "metadata": {},
     "output_type": "display_data"
    }
   ],
   "source": [
    "fig, ax = plt.subplots(nrows=4,ncols=4,figsize=[10,10])\n",
    "fig.patch.set_facecolor('white')\n",
    "pme=model.sequence[2].z_out.transpose(3,0,1,2)\n",
    "for i,axi in enumerate(ax.flat):\n",
    "    axi.imshow(pme[i].reshape(pme.shape[-2:]), cmap='Greys')"
   ]
  },
  {
   "cell_type": "code",
   "execution_count": null,
   "metadata": {},
   "outputs": [],
   "source": []
  }
 ],
 "metadata": {
  "kernelspec": {
   "display_name": "Python 3",
   "language": "python",
   "name": "python3"
  },
  "language_info": {
   "codemirror_mode": {
    "name": "ipython",
    "version": 3
   },
   "file_extension": ".py",
   "mimetype": "text/x-python",
   "name": "python",
   "nbconvert_exporter": "python",
   "pygments_lexer": "ipython3",
   "version": "3.7.3"
  }
 },
 "nbformat": 4,
 "nbformat_minor": 2
}
