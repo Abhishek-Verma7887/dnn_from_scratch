{
 "cells": [
  {
   "cell_type": "code",
   "execution_count": 1,
   "metadata": {},
   "outputs": [],
   "source": [
    "import timeit\n",
    "import matplotlib.pyplot as plt\n",
    "import pickle\n",
    "from mnist import MNIST\n",
    "from time import time\n",
    "import numpy as np"
   ]
  },
  {
   "cell_type": "code",
   "execution_count": 2,
   "metadata": {},
   "outputs": [
    {
     "name": "stdout",
     "output_type": "stream",
     "text": [
      "Loading dataset....\n",
      "Done.\n"
     ]
    }
   ],
   "source": [
    "from mnist import MNIST    # pip install python-mnist\n",
    "print(\"Loading dataset....\")\n",
    "mndata = MNIST('../mnist_dataset')\n",
    "X_train, y_train = mndata.load_training()\n",
    "X_train = (mndata.process_images_to_numpy(X_train)/255).astype(np.float32)\n",
    "X_test, y_test = mndata.load_testing()\n",
    "X_test = (mndata.process_images_to_numpy(X_test)/255).astype(np.float32)\n",
    "y_train=np.asarray(y_train)\n",
    "y_test=np.asarray(y_test)\n",
    "print(\"Done.\")"
   ]
  },
  {
   "cell_type": "code",
   "execution_count": 3,
   "metadata": {},
   "outputs": [],
   "source": [
    "def one_hot_encode(y):\n",
    "    ot=np.zeros((y.size,y.max()+1),dtype=np.float32)\n",
    "    ot[np.arange(y.size),y]=1\n",
    "    return ot"
   ]
  },
  {
   "cell_type": "code",
   "execution_count": 4,
   "metadata": {},
   "outputs": [],
   "source": [
    "y_train=one_hot_encode(y_train)\n",
    "y_test=one_hot_encode(y_test)"
   ]
  },
  {
   "cell_type": "markdown",
   "metadata": {},
   "source": [
    "# Import network, layers and functions"
   ]
  },
  {
   "cell_type": "code",
   "execution_count": 5,
   "metadata": {},
   "outputs": [],
   "source": [
    "from nnet_gpu.network import Sequential\n",
    "from nnet_gpu.layers import conv2d,flatten,dense,max_pool,dropout\n",
    "from nnet_gpu import functions\n",
    "from nnet_gpu import optimizers\n",
    "import numpy as np\n",
    "import cupy as cp"
   ]
  },
  {
   "cell_type": "markdown",
   "metadata": {},
   "source": [
    "# Make Sequential Model"
   ]
  },
  {
   "cell_type": "code",
   "execution_count": 13,
   "metadata": {},
   "outputs": [],
   "source": [
    "model=Sequential()\n",
    "model.add(conv2d(input_shape=(28,28,1),num_kernels=16,kernel_size=3,stride=(2,2),activation=functions.relu))\n",
    "# model.add(max_pool())\n",
    "model.add(dropout(0.2))\n",
    "model.add(conv2d(num_kernels=32,kernel_size=3,stride=(2,2),activation=functions.relu))\n",
    "# model.add(max_pool())\n",
    "model.add(dropout(0.3))\n",
    "model.add(conv2d(num_kernels=64,kernel_size=3,activation=functions.relu))\n",
    "# model.add(globalAveragePool())\n",
    "model.add(flatten())\n",
    "model.add(dense(256,activation=functions.relu))\n",
    "model.add(dropout(0.3))\n",
    "model.add(dense(10,activation=functions.softmax))"
   ]
  },
  {
   "cell_type": "markdown",
   "metadata": {},
   "source": [
    "# View Model Summary"
   ]
  },
  {
   "cell_type": "code",
   "execution_count": 14,
   "metadata": {
    "scrolled": false
   },
   "outputs": [
    {
     "name": "stdout",
     "output_type": "stream",
     "text": [
      "⎽⎽⎽⎽⎽⎽⎽⎽⎽⎽⎽⎽⎽⎽⎽⎽⎽⎽⎽⎽⎽⎽⎽⎽⎽⎽⎽⎽⎽⎽⎽⎽⎽⎽⎽⎽⎽⎽⎽⎽⎽⎽⎽⎽⎽⎽⎽⎽⎽⎽⎽⎽⎽⎽⎽⎽⎽⎽⎽⎽⎽⎽⎽⎽⎽⎽⎽⎽⎽⎽⎽⎽⎽⎽⎽⎽⎽⎽⎽⎽⎽⎽⎽⎽⎽⎽⎽⎽⎽⎽\n",
      "Layer (type)               Output Shape             Activation        Param #\n",
      "==========================================================================================\n",
      "- input_layer(InputLayer) (None, 28, 28, 1)          echo             0\n",
      "__________________________________________________________________________________________\n",
      "0 conv2d(conv2d)          (None, 14, 14, 16)         relu             160\n",
      "__________________________________________________________________________________________\n",
      "1 dropout(dropout)        (None, 14, 14, 16)         echo             0\n",
      "__________________________________________________________________________________________\n",
      "2 conv2d(conv2d)          (None, 7, 7, 32)           relu             4640\n",
      "__________________________________________________________________________________________\n",
      "3 dropout(dropout)        (None, 7, 7, 32)           echo             0\n",
      "__________________________________________________________________________________________\n",
      "4 conv2d(conv2d)          (None, 7, 7, 64)           relu             18496\n",
      "__________________________________________________________________________________________\n",
      "5 flatten(flatten)        (None, 3136)               echo             0\n",
      "__________________________________________________________________________________________\n",
      "6 dense(dense)            (None, 256)                relu             803072\n",
      "__________________________________________________________________________________________\n",
      "7 dropout(dropout)        (None, 256)                echo             0\n",
      "__________________________________________________________________________________________\n",
      "8 dense(dense)            (None, 10)                 softmax          2570\n",
      "==========================================================================================\n",
      "Total Params: 828,938\n",
      "Trainable Params: 828,938\n",
      "Non-trainable Params: 0\n"
     ]
    }
   ],
   "source": [
    "model.summary()"
   ]
  },
  {
   "cell_type": "markdown",
   "metadata": {},
   "source": [
    "# Compile model with optimizer, loss and lr"
   ]
  },
  {
   "cell_type": "code",
   "execution_count": 16,
   "metadata": {},
   "outputs": [],
   "source": [
    "model.compile(optimizer=optimizers.adam,loss=functions.cross_entropy_with_logits,learning_rate=0.001)"
   ]
  },
  {
   "cell_type": "markdown",
   "metadata": {},
   "source": [
    "# Train model"
   ]
  },
  {
   "cell_type": "code",
   "execution_count": 9,
   "metadata": {},
   "outputs": [],
   "source": [
    "X_train = X_train.reshape(-1,28,28,1)\n",
    "X_test = X_test.reshape(-1,28,28,1)"
   ]
  },
  {
   "cell_type": "code",
   "execution_count": 10,
   "metadata": {},
   "outputs": [],
   "source": [
    "X_train=cp.asarray(X_train)\n",
    "y_train=cp.asarray(y_train)\n",
    "X_test=cp.asarray(X_test)\n",
    "y_test=cp.asarray(y_test)"
   ]
  },
  {
   "cell_type": "code",
   "execution_count": null,
   "metadata": {
    "scrolled": true
   },
   "outputs": [
    {
     "name": "stdout",
     "output_type": "stream",
     "text": [
      "EPOCH: 1 / 5\n",
      "Progress:  60000 / 60000  - 0s - 0.070s/sample - loss: 0.1343 - accuracy: 0.9546 - Time: 18.814s\n",
      "Validation Accuracy: 0.9667 - val_loss: 0.1927 - Time: 0.467s\n",
      "EPOCH: 2 / 5\n",
      "Progress:  60000 / 60000  - 0s - 0.071s/sample - loss: 0.1168 - accuracy: 0.9443 - Time: 18.837s\n",
      "Validation Accuracy: 0.9673 - val_loss: 0.1765 - Time: 0.467s\n",
      "EPOCH: 3 / 5\n",
      "Progress:  60000 / 60000  - 0s - 0.070s/sample - loss: 0.1401 - accuracy: 0.9514 - Time: 18.827s\n",
      "Validation Accuracy: 0.9704 - val_loss: 0.1781 - Time: 0.467s\n",
      "EPOCH: 4 / 5\n",
      "Progress:  54016 / 60000  - 1s - 0.080s/sample - loss: 0.4620 - accuracy: 0.9535 -  __"
     ]
    }
   ],
   "source": [
    "model.fit(X_train,y_train,batch_size=256,epochs=5,validation_data=(X_test,y_test))"
   ]
  },
  {
   "cell_type": "code",
   "execution_count": null,
   "metadata": {},
   "outputs": [],
   "source": []
  },
  {
   "cell_type": "code",
   "execution_count": 88,
   "metadata": {
    "collapsed": true
   },
   "outputs": [
    {
     "name": "stdout",
     "output_type": "stream",
     "text": [
      "Prediction: [7] \n",
      "Correct:    [7]\n"
     ]
    },
    {
     "data": {
      "text/plain": [
       "<matplotlib.image.AxesImage at 0x7f830dc953a0>"
      ]
     },
     "execution_count": 88,
     "metadata": {},
     "output_type": "execute_result"
    },
    {
     "data": {
      "image/png": "[encoded data removed]",
      "text/plain": [
       "<Figure size 432x288 with 1 Axes>"
      ]
     },
     "metadata": {
      "needs_background": "light"
     },
     "output_type": "display_data"
    }
   ],
   "source": [
    "ck=np.random.randint(0,60000-100)\n",
    "inp,y_inp=X_train[ck:ck+1],y_train[ck:ck+1]\n",
    "logits=model.predict(inp)\n",
    "ans=logits.argmax(axis=1)\n",
    "cor=y_inp.argmax(axis=1)\n",
    "print(\"Prediction:\",ans,\"\\nCorrect:   \",cor)\n",
    "plt.imshow(inp[0].get().reshape(28,28), cmap='Greys')"
   ]
  },
  {
   "cell_type": "code",
   "execution_count": null,
   "metadata": {},
   "outputs": [],
   "source": []
  }
 ],
 "metadata": {
  "kernelspec": {
   "display_name": "Python 3",
   "language": "python",
   "name": "python3"
  },
  "language_info": {
   "codemirror_mode": {
    "name": "ipython",
    "version": 3
   },
   "file_extension": ".py",
   "mimetype": "text/x-python",
   "name": "python",
   "nbconvert_exporter": "python",
   "pygments_lexer": "ipython3",
   "version": "3.8.2"
  }
 },
 "nbformat": 4,
 "nbformat_minor": 2
}
