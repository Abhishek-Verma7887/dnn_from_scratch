{
 "cells": [
  {
   "cell_type": "code",
   "execution_count": 1,
   "metadata": {},
   "outputs": [],
   "source": [
    "import timeit\n",
    "import numpy as np\n",
    "import matplotlib.pyplot as plt\n",
    "import cnn"
   ]
  },
  {
   "cell_type": "code",
   "execution_count": 2,
   "metadata": {},
   "outputs": [
    {
     "name": "stdout",
     "output_type": "stream",
     "text": [
      "Loading dataset....\n"
     ]
    }
   ],
   "source": [
    "import pickle\n",
    "from mnist import MNIST\n",
    "from time import time\n",
    "\n",
    "print(\"Loading dataset....\")\n",
    "mndata = MNIST('../mnist_dataset')\n",
    "X_train, y_train = mndata.load_training()\n",
    "X_train = (mndata.process_images_to_numpy(X_train)/255)\n",
    "X_test, y_test = mndata.load_testing()\n",
    "X_test = (mndata.process_images_to_numpy(X_test)/255)"
   ]
  },
  {
   "cell_type": "code",
   "execution_count": 3,
   "metadata": {},
   "outputs": [],
   "source": [
    "def one_hot_encode(labels):\n",
    "    y_inp=np.zeros((len(labels),10))\n",
    "    for ind,val in enumerate(labels):\n",
    "        y_inp[ind][val]=1\n",
    "    return y_inp"
   ]
  },
  {
   "cell_type": "code",
   "execution_count": 4,
   "metadata": {},
   "outputs": [
    {
     "data": {
      "image/png": "[encoded data removed]",
      "text/plain": [
       "<Figure size 432x288 with 1 Axes>"
      ]
     },
     "metadata": {
      "needs_background": "light"
     },
     "output_type": "display_data"
    }
   ],
   "source": [
    "plt.imshow(X_train[5].reshape(28,28), cmap='Greys')\n",
    "plt.show()"
   ]
  },
  {
   "cell_type": "code",
   "execution_count": 5,
   "metadata": {},
   "outputs": [],
   "source": [
    "def batch_gen(st=0,size=20,validate=False):\n",
    "    if validate:\n",
    "        X=X_test[st:st+size].reshape(-1,28,28,1)\n",
    "        labels=y_test[st:st+size]\n",
    "    else:\n",
    "        X=X_train[st:st+size].reshape(-1,28,28,1)\n",
    "        labels=y_train[st:st+size]\n",
    "    y=one_hot_encode(labels)\n",
    "    return X,y"
   ]
  },
  {
   "cell_type": "code",
   "execution_count": 6,
   "metadata": {},
   "outputs": [],
   "source": [
    "nn=cnn.conv_net()"
   ]
  },
  {
   "cell_type": "markdown",
   "metadata": {},
   "source": [
    "# Inititalize filters and bias"
   ]
  },
  {
   "cell_type": "code",
   "execution_count": 7,
   "metadata": {},
   "outputs": [],
   "source": [
    "w0,b0=nn.init_kernel_bias(num_inp_channels=1,kernel_size=5,num_kernels=6)\n",
    "w1,b1=nn.init_kernel_bias(num_inp_channels=6,kernel_size=5,num_kernels=16)"
   ]
  },
  {
   "cell_type": "markdown",
   "metadata": {},
   "source": [
    "# Initialize fully connected layer"
   ]
  },
  {
   "cell_type": "code",
   "execution_count": 8,
   "metadata": {},
   "outputs": [],
   "source": [
    "import nnet\n",
    "ann=nnet.neural_net(nrons=[784,128,40,10])\n",
    "ann.activations(func=['relu','relu','sigmoid'])"
   ]
  },
  {
   "cell_type": "markdown",
   "metadata": {},
   "source": [
    "# CNN and FC with backprop"
   ]
  },
  {
   "cell_type": "code",
   "execution_count": 9,
   "metadata": {},
   "outputs": [],
   "source": [
    "def train(inp,y_inp):\n",
    "    global w0,b0,w1,b1,w2,b2,w3,b3,ann\n",
    "    # Feed Forward\n",
    "    conv0=nn.conv2d(inp,w0,b0)\n",
    "    aconv0=nn.relu(conv0)\n",
    "    pool0,max_index0=nn.max_pool(aconv0)\n",
    "\n",
    "    conv1=nn.conv2d(pool0,w1,b1)\n",
    "    aconv1=nn.relu(conv1)\n",
    "    pool1,max_index1=nn.max_pool(aconv1)\n",
    "\n",
    "    r,c,d=pool1.shape[1:]\n",
    "    flat=pool1.reshape(-1,r*c*d)\n",
    "\n",
    "    err1=[]\n",
    "    for flat_layer,ohe_cor in zip(flat,y_inp):\n",
    "        ott=ann.feed_forward(flat_layer)\n",
    "        ans=ott.argmax()\n",
    "        cor=ohe_cor.argmax()\n",
    "        err1.append(ann.backprop(ohe_cor)[0])\n",
    "\n",
    "    err1=np.array(err1).reshape(-1,r,c,d)\n",
    "    # Back prop CNN\n",
    "    d_aconv1=nn.max_pool_back(errors=err1,inp=aconv1,max_index=max_index1)\n",
    "    d_conv1=d_aconv1*nn.relu_der(aconv1,conv1)\n",
    "    d_pool0,d_w1,d_b1=nn.conv2d_back(errors=d_conv1,inp=pool0,kernels=w1,biases=b1)\n",
    "    w1+=d_w1\n",
    "    b1+=d_b1\n",
    "\n",
    "    d_aconv0=nn.max_pool_back(errors=d_pool0,inp=aconv0,max_index=max_index0)\n",
    "    d_conv0=d_aconv0*nn.relu_der(aconv0,conv0)\n",
    "    d_inp,d_w0,d_b0=nn.conv2d_back(errors=d_conv0,inp=inp,kernels=w0,biases=b0,layer=0)\n",
    "    w0+=d_w0\n",
    "    b0+=d_b0"
   ]
  },
  {
   "cell_type": "code",
   "execution_count": 10,
   "metadata": {},
   "outputs": [],
   "source": [
    "def validate(inp,y_inp):\n",
    "    global w0,b0,w1,b1,w2,b2,w3,b3,ann\n",
    "    # Feed Forward\n",
    "    conv0=nn.conv2d(inp,w0,b0)\n",
    "    aconv0=nn.relu(conv0)\n",
    "    pool0,max_index0=nn.max_pool(aconv0)\n",
    "\n",
    "    conv1=nn.conv2d(pool0,w1,b1)\n",
    "    aconv1=nn.relu(conv1)\n",
    "    pool1,max_index1=nn.max_pool(aconv1)\n",
    "\n",
    "    r,c,d=pool1.shape[1:]\n",
    "    flat=pool1.reshape(-1,r*c*d)\n",
    "    \n",
    "    ans=[]\n",
    "    cor=[]\n",
    "    for flat_layer,ohe_cor in zip(flat,y_inp):\n",
    "        ott=ann.feed_forward(flat_layer)\n",
    "        ans.append(ott.argmax())\n",
    "        cor.append(ohe_cor.argmax())\n",
    "    return ans,cor"
   ]
  },
  {
   "cell_type": "code",
   "execution_count": 11,
   "metadata": {},
   "outputs": [
    {
     "data": {
      "text/plain": [
       "((60000, 784), (10000, 784))"
      ]
     },
     "execution_count": 11,
     "metadata": {},
     "output_type": "execute_result"
    }
   ],
   "source": [
    "X_train.shape,X_test.shape"
   ]
  },
  {
   "cell_type": "code",
   "execution_count": 14,
   "metadata": {},
   "outputs": [],
   "source": [
    "st=0"
   ]
  },
  {
   "cell_type": "code",
   "execution_count": 19,
   "metadata": {},
   "outputs": [
    {
     "name": "stdout",
     "output_type": "stream",
     "text": [
      "Progress: 15.00 %\n",
      "Validation Acc: 97.59 %\n",
      "Progress: 20.00 %\n",
      "Validation Acc: 97.6 %\n",
      "Progress: 25.00 %\n",
      "Validation Acc: 97.8 %\n",
      "Progress: 30.00 %\n",
      "Validation Acc: 97.76 %\n",
      "Progress: 35.00 %\n",
      "Validation Acc: 97.95 %\n",
      "Progress: 40.00 %\n",
      "Validation Acc: 98.06 %\n",
      "Progress: 45.00 %\n",
      "Validation Acc: 97.76 %\n",
      "Progress: 50.00 %\n",
      "Validation Acc: 97.76 %\n",
      "Progress: 55.00 %\n",
      "Validation Acc: 97.93 %\n",
      "Progress: 60.00 %\n",
      "Validation Acc: 97.28 %\n",
      "Progress: 65.00 %\n",
      "Validation Acc: 97.66 %\n",
      "Progress: 70.00 %\n",
      "Validation Acc: 98.02 %\n",
      "Progress: 75.00 %\n",
      "Validation Acc: 97.51 %\n",
      "Progress: 80.00 %\n",
      "Validation Acc: 98.03 %\n",
      "Progress: 85.00 %\n",
      "Validation Acc: 98.15 %\n",
      "Progress: 90.00 %\n",
      "Validation Acc: 97.95 %\n",
      "Progress: 95.00 %\n",
      "Validation Acc: 98.26 %\n",
      "Progress: 99.93 %"
     ]
    }
   ],
   "source": [
    "while (st+20)<60000:\n",
    "    perc=st/600\n",
    "    print(\"\\rProgress: {:.2f} %\".format(perc),end='')\n",
    "    inp,y_inp=batch_gen(st,size=20)\n",
    "    train(inp,y_inp)\n",
    "    st+=20\n",
    "    if not perc%5:\n",
    "        sz=10000\n",
    "        inp,y_inp=batch_gen(0,size=sz,validate=True)\n",
    "        ans,cor=validate(inp,y_inp)\n",
    "        ncor=0\n",
    "        for i,j in zip(ans,cor):\n",
    "            if i==j:\n",
    "                ncor+=1\n",
    "        acc=ncor*100/sz\n",
    "        if acc>95:\n",
    "            nn.learning_rate=0.001\n",
    "        print(\"\\nValidation Acc: {} %\".format(acc))"
   ]
  },
  {
   "cell_type": "code",
   "execution_count": null,
   "metadata": {},
   "outputs": [],
   "source": [
    "ck=np.random.randint(0,60000-100)\n",
    "inp,y_inp=batch_gen(ck,size=1)\n",
    "ans,cor=validate(inp,y_inp)\n",
    "print(ans,cor)\n",
    "plt.imshow(inp[0].reshape(28,28), cmap='Greys')"
   ]
  },
  {
   "cell_type": "code",
   "execution_count": null,
   "metadata": {},
   "outputs": [],
   "source": [
    "conv0=nn.conv2d(inp,w0,b0)\n",
    "aconv0=nn.relu(conv0)\n",
    "pool0,max_index0=nn.max_pool(aconv0)\n",
    "\n",
    "conv1=nn.conv2d(pool0,w1,b1)\n",
    "aconv1=nn.relu(conv1)\n",
    "pool1,max_index1=nn.max_pool(aconv1)\n",
    "\n",
    "r,c,d=pool1.shape[1:]\n",
    "flat=pool1.reshape(-1,r*c*d)\n",
    "\n",
    "for flat_layer,ohe_cor in zip(flat,y_inp):\n",
    "    ott=ann.feed_forward(flat_layer)\n",
    "print(ott)"
   ]
  },
  {
   "cell_type": "code",
   "execution_count": null,
   "metadata": {},
   "outputs": [],
   "source": [
    "# Feed Forward\n",
    "conv0=nn.conv2d(inp,w0,b0)\n",
    "aconv0=nn.relu(conv0)\n",
    "pool0,max_index0=nn.max_pool(aconv0)\n",
    "conv1=nn.conv2d(pool0,w1,b1)\n",
    "aconv1=nn.relu(conv1)\n",
    "pool1,max_index1=nn.max_pool(aconv1)\n",
    "r,c,d=pool1.shape[1:]\n",
    "flat=pool1.reshape(-1,r*c*d)\n",
    "err1=[]\n",
    "for flat_layer,ohe_cor in zip(flat,y_inp):\n",
    "    ott=ann.feed_forward(flat_layer)\n",
    "    ans=ott.argmax()\n",
    "    cor=ohe_cor.argmax()\n",
    "    err1.append(ann.backprop(ohe_cor)[0])\n",
    "err1=np.array(err1).reshape(-1,r,c,d)\n",
    "# Back prop CNN\n",
    "d_aconv1=nn.max_pool_back(errors=err1,inp=aconv1,max_index=max_index1)\n",
    "d_conv1=d_aconv1*nn.relu_der(aconv1,conv1)\n",
    "d_pool0,d_w1,d_b1=nn.conv2d_back(errors=d_conv1,inp=pool0,kernels=w1,biases=b1)\n",
    "w1+=d_w1\n",
    "b1+=d_b1\n",
    "d_aconv0=nn.max_pool_back(errors=d_pool0,inp=aconv0,max_index=max_index0)\n",
    "d_conv0=d_aconv0*nn.relu_der(aconv0,conv0)\n",
    "d_inp,d_w0,d_b0=nn.conv2d_back(errors=d_conv0,inp=inp,kernels=w0,biases=b0,layer=0)\n",
    "w0+=d_w0\n",
    "b0+=d_b0"
   ]
  },
  {
   "cell_type": "code",
   "execution_count": null,
   "metadata": {},
   "outputs": [],
   "source": []
  }
 ],
 "metadata": {
  "kernelspec": {
   "display_name": "Python 3",
   "language": "python",
   "name": "python3"
  },
  "language_info": {
   "codemirror_mode": {
    "name": "ipython",
    "version": 3
   },
   "file_extension": ".py",
   "mimetype": "text/x-python",
   "name": "python",
   "nbconvert_exporter": "python",
   "pygments_lexer": "ipython3",
   "version": "3.7.3"
  }
 },
 "nbformat": 4,
 "nbformat_minor": 2
}
