{
 "cells": [
  {
   "cell_type": "code",
   "execution_count": 1,
   "metadata": {},
   "outputs": [],
   "source": [
    "import timeit\n",
    "import matplotlib.pyplot as plt\n",
    "import pickle\n",
    "from mnist import MNIST\n",
    "from time import time"
   ]
  },
  {
   "cell_type": "code",
   "execution_count": 2,
   "metadata": {},
   "outputs": [
    {
     "name": "stdout",
     "output_type": "stream",
     "text": [
      "Loading dataset....\n",
      "Done.\n"
     ]
    }
   ],
   "source": [
    "print(\"Loading dataset....\")\n",
    "mndata = MNIST('../mnist_dataset')\n",
    "X_train, y_train = mndata.load_training()\n",
    "X_train = (mndata.process_images_to_numpy(X_train)/255)\n",
    "X_test, y_test = mndata.load_testing()\n",
    "X_test = (mndata.process_images_to_numpy(X_test)/255)\n",
    "print(\"Done.\")"
   ]
  },
  {
   "cell_type": "code",
   "execution_count": 3,
   "metadata": {},
   "outputs": [],
   "source": [
    "def one_hot_encode(labels):\n",
    "    y_inp=np.zeros((len(labels),10))\n",
    "    for ind,val in enumerate(labels):\n",
    "        y_inp[ind][val]=1\n",
    "    return y_inp"
   ]
  },
  {
   "cell_type": "code",
   "execution_count": 4,
   "metadata": {},
   "outputs": [],
   "source": [
    "def batch_gen(st=0,size=20,validate=False):\n",
    "    st=st%60000\n",
    "    if validate:\n",
    "        X=X_test[st:st+size].reshape(-1,28,28,1)\n",
    "        labels=y_test[st:st+size]\n",
    "    else:\n",
    "        X=X_train[st:st+size].reshape(-1,28,28,1)\n",
    "        labels=y_train[st:st+size]\n",
    "    y=one_hot_encode(labels)\n",
    "    return X,y"
   ]
  },
  {
   "cell_type": "markdown",
   "metadata": {},
   "source": [
    "# Import network, layers and functions"
   ]
  },
  {
   "cell_type": "code",
   "execution_count": 5,
   "metadata": {},
   "outputs": [
    {
     "name": "stdout",
     "output_type": "stream",
     "text": [
      "Seed: 527\n",
      "Seed: 858\n"
     ]
    }
   ],
   "source": [
    "from nnet.network import Sequential,layers\n",
    "from nnet.layers import conv2d,max_pool,flatten,dense,dropout\n",
    "from nnet import functions\n",
    "from nnet import optimizers\n",
    "import numpy as np"
   ]
  },
  {
   "cell_type": "markdown",
   "metadata": {},
   "source": [
    "# Make Sequential Model"
   ]
  },
  {
   "cell_type": "code",
   "execution_count": 26,
   "metadata": {},
   "outputs": [],
   "source": [
    "model=Sequential()"
   ]
  },
  {
   "cell_type": "code",
   "execution_count": 27,
   "metadata": {},
   "outputs": [],
   "source": [
    "model.add(conv2d(input_shape=(28,28,1),num_kernels=6,kernel_size=3,activation=functions.relu))\n",
    "model.add(max_pool())\n",
    "model.add(dropout(0.2))\n",
    "model.add(conv2d(num_kernels=16,kernel_size=3,activation=functions.relu))\n",
    "model.add(max_pool())\n",
    "model.add(dropout(0.3))\n",
    "model.add(flatten())\n",
    "model.add(dense(256,activation=functions.relu))\n",
    "model.add(dropout(0.4))\n",
    "model.add(dense(10,activation=functions.softmax))"
   ]
  },
  {
   "cell_type": "markdown",
   "metadata": {},
   "source": [
    "# View Model Summary"
   ]
  },
  {
   "cell_type": "code",
   "execution_count": 28,
   "metadata": {},
   "outputs": [
    {
     "name": "stdout",
     "output_type": "stream",
     "text": [
      "⎽⎽⎽⎽⎽⎽⎽⎽⎽⎽⎽⎽⎽⎽⎽⎽⎽⎽⎽⎽⎽⎽⎽⎽⎽⎽⎽⎽⎽⎽⎽⎽⎽⎽⎽⎽⎽⎽⎽⎽⎽⎽⎽⎽⎽⎽⎽⎽⎽⎽⎽⎽⎽⎽⎽⎽⎽⎽⎽⎽⎽⎽⎽⎽⎽⎽⎽⎽⎽⎽⎽⎽⎽⎽⎽⎽⎽⎽⎽⎽⎽⎽⎽⎽⎽⎽⎽⎽⎽⎽\n",
      "Layer (type)               Output Shape             Activation        Param #\n",
      "==========================================================================================\n",
      "0 input_layer(InputLayer) (None, 28, 28, 1)          echo             0\n",
      "__________________________________________________________________________________________\n",
      "1 conv2d(conv2d)          (None, 28, 28, 6)          relu             60\n",
      "__________________________________________________________________________________________\n",
      "2 max_pool(max_pool)      (None, 14, 14, 6)          echo             0\n",
      "__________________________________________________________________________________________\n",
      "3 dropout(dropout)        (None, 14, 14, 6)          echo             0\n",
      "__________________________________________________________________________________________\n",
      "4 conv2d(conv2d)          (None, 14, 14, 16)         relu             880\n",
      "__________________________________________________________________________________________\n",
      "5 max_pool(max_pool)      (None, 7, 7, 16)           echo             0\n",
      "__________________________________________________________________________________________\n",
      "6 dropout(dropout)        (None, 7, 7, 16)           echo             0\n",
      "__________________________________________________________________________________________\n",
      "7 flatten(flatten)        (None, 784)                echo             0\n",
      "__________________________________________________________________________________________\n",
      "8 dense(dense)            (None, 256)                relu             200960\n",
      "__________________________________________________________________________________________\n",
      "9 dropout(dropout)        (None, 256)                echo             0\n",
      "__________________________________________________________________________________________\n",
      "10 dense(dense)           (None, 10)                 softmax          2570\n",
      "==========================================================================================\n",
      "Total Params: 204,470\n",
      "Trainable Params: 204,470\n",
      "Non-trainable Params: 0\n"
     ]
    }
   ],
   "source": [
    "model.summary()"
   ]
  },
  {
   "cell_type": "markdown",
   "metadata": {},
   "source": [
    "# Compile model with optimizer, loss and lr"
   ]
  },
  {
   "cell_type": "code",
   "execution_count": 18,
   "metadata": {},
   "outputs": [],
   "source": [
    "model.compile(optimizer=optimizers.adam,loss=functions.cross_entropy_with_logits,learning_rate=0.001)"
   ]
  },
  {
   "cell_type": "code",
   "execution_count": 34,
   "metadata": {},
   "outputs": [],
   "source": [
    "model.compile(optimizer=optimizers.adam,loss=functions.cross_entropy_with_logits,learning_rate=0.001)"
   ]
  },
  {
   "cell_type": "markdown",
   "metadata": {},
   "source": [
    "# Train model"
   ]
  },
  {
   "cell_type": "code",
   "execution_count": 30,
   "metadata": {},
   "outputs": [],
   "source": [
    "losses=[]\n",
    "train_acc=[]"
   ]
  },
  {
   "cell_type": "code",
   "execution_count": 31,
   "metadata": {},
   "outputs": [],
   "source": [
    "def validate():\n",
    "    vdsz=2000\n",
    "    dvme=10000//vdsz\n",
    "    acc=0\n",
    "    cross_entropy_loss=0\n",
    "    for smpl in range(0,10000,vdsz):\n",
    "        print(\"\\rCalculating Validation acc...\",smpl//vdsz+1,end='')\n",
    "        inp,y_inp=batch_gen(smpl,size=vdsz,validate=True)\n",
    "        logits=model.predict(inp)\n",
    "        ans=logits.argmax(axis=1)\n",
    "        cor=y_inp.argmax(axis=1)\n",
    "        acc+=100*(ans==cor).mean()\n",
    "        cross_entropy_loss+=model.loss(logits,labels=y_inp).mean()*10\n",
    "    print(\"\\rValidation Acc: {:.3f} %        Val loss: {:.8f}\".format(acc/dvme,cross_entropy_loss/dvme))\n",
    "    logits=model.predict(inp[:1])"
   ]
  },
  {
   "cell_type": "code",
   "execution_count": 32,
   "metadata": {
    "scrolled": false
   },
   "outputs": [],
   "source": [
    "def run():\n",
    "    st=0\n",
    "    btsz=128\n",
    "    acc_tn=0\n",
    "    _cc=0\n",
    "    loss_tn=0\n",
    "    while st<=60000:\n",
    "        sam_tm=time()\n",
    "        perc=st/600\n",
    "        ck=np.random.randint(0,60000-btsz)\n",
    "        inp,y_inp=batch_gen(ck,size=btsz)\n",
    "        logits=model.fit(inp,y_inp)\n",
    "        ans=logits.argmax(axis=1)\n",
    "        cor=y_inp.argmax(axis=1)\n",
    "        acc=100*(ans==cor).mean()\n",
    "        cross_entropy_loss=model.loss(logits=logits,labels=y_inp).mean()*10\n",
    "        acc_tn+=acc\n",
    "        _cc+=1\n",
    "        loss_tn+=cross_entropy_loss\n",
    "        acc=acc_tn/_cc\n",
    "        loss_=loss_tn/_cc\n",
    "        losses.append(loss_)\n",
    "        train_acc.append(acc)\n",
    "        if acc>=98:\n",
    "            model.learning_rate=1e-5\n",
    "        elif acc>=97:\n",
    "            model.learning_rate=1e-5\n",
    "#         elif acc>=95:\n",
    "#             model.learning_rate=1e-4\n",
    "        sam_tm=time()-sam_tm\n",
    "        rem_sam=(60000-st)/btsz\n",
    "        eta=int(rem_sam*sam_tm)\n",
    "        print(\"\\rProgress: {:.2f} %    Acc: {:.3f} %    loss: {:.6f}     Sample time: {:.3f}s    ETA: {}:{}s    .\".format(perc,acc,loss_,sam_tm,eta//60,eta%60),end='')\n",
    "        st+=btsz\n",
    "    print(\"\")"
   ]
  },
  {
   "cell_type": "code",
   "execution_count": null,
   "metadata": {
    "scrolled": false
   },
   "outputs": [
    {
     "name": "stdout",
     "output_type": "stream",
     "text": [
      "EPOCH: 1 / 3\n",
      "Progress: 11.31 %    Acc: 10.952 %    loss: 2.302447     Sample time: 0.069s    ETA: 0:28s    ."
     ]
    }
   ],
   "source": [
    "epochs=3\n",
    "for epoch in range(epochs):\n",
    "    print(\"EPOCH:\",epoch+1,'/',epochs)\n",
    "    st_tm=time()\n",
    "    run()\n",
    "    print(\"Epoch time: {}:{}s\".format(int(time()-st_tm)//60,int(time()-st_tm)%60))\n",
    "    validate()"
   ]
  },
  {
   "cell_type": "code",
   "execution_count": 20,
   "metadata": {},
   "outputs": [
    {
     "name": "stdout",
     "output_type": "stream",
     "text": [
      "Validation Acc: 96.370 %        Val loss: 0.13717539\n"
     ]
    }
   ],
   "source": [
    "validate()"
   ]
  },
  {
   "cell_type": "code",
   "execution_count": 21,
   "metadata": {},
   "outputs": [
    {
     "data": {
      "image/png": "[encoded data removed]",
      "text/plain": [
       "<Figure size 2160x720 with 1 Axes>"
      ]
     },
     "metadata": {
      "needs_background": "light"
     },
     "output_type": "display_data"
    }
   ],
   "source": [
    "plt.figure(figsize=(30,10))\n",
    "plt.plot(losses,color='#ff7f0e')\n",
    "plt.show()"
   ]
  },
  {
   "cell_type": "code",
   "execution_count": 22,
   "metadata": {},
   "outputs": [
    {
     "data": {
      "image/png": "[encoded data removed]",
      "text/plain": [
       "<Figure size 2160x720 with 1 Axes>"
      ]
     },
     "metadata": {
      "needs_background": "light"
     },
     "output_type": "display_data"
    }
   ],
   "source": [
    "plt.figure(figsize=(30,10))\n",
    "plt.plot(train_acc,color='#ff7f0e')\n",
    "plt.show()"
   ]
  },
  {
   "cell_type": "code",
   "execution_count": 25,
   "metadata": {},
   "outputs": [
    {
     "name": "stdout",
     "output_type": "stream",
     "text": [
      "Prediction: [4] \n",
      "Correct:    [4]\n"
     ]
    },
    {
     "data": {
      "text/plain": [
       "<matplotlib.image.AxesImage at 0x7ff71a5fd3d0>"
      ]
     },
     "execution_count": 25,
     "metadata": {},
     "output_type": "execute_result"
    },
    {
     "data": {
      "image/png": "[encoded data removed]",
      "text/plain": [
       "<Figure size 432x288 with 1 Axes>"
      ]
     },
     "metadata": {
      "needs_background": "light"
     },
     "output_type": "display_data"
    }
   ],
   "source": [
    "ck=np.random.randint(0,60000-100)\n",
    "inp,y_inp=batch_gen(ck,size=1)\n",
    "logits=model.predict(inp)\n",
    "ans=logits.argmax(axis=1)\n",
    "cor=y_inp.argmax(axis=1)\n",
    "print(\"Prediction:\",ans,\"\\nCorrect:   \",cor)\n",
    "plt.imshow(inp[0].reshape(28,28), cmap='Greys')"
   ]
  },
  {
   "cell_type": "code",
   "execution_count": 26,
   "metadata": {},
   "outputs": [
    {
     "data": {
      "image/png": "[encoded data removed]",
      "text/plain": [
       "<Figure size 720x720 with 16 Axes>"
      ]
     },
     "metadata": {},
     "output_type": "display_data"
    }
   ],
   "source": [
    "fig, ax = plt.subplots(nrows=4,ncols=4,figsize=[10,10])\n",
    "fig.patch.set_facecolor('white')\n",
    "pme=model.sequence[3].z_out.transpose(3,0,1,2)\n",
    "for i,axi in enumerate(ax.flat):\n",
    "    axi.imshow(pme[i].reshape(pme.shape[-2:]), cmap='Greys')"
   ]
  },
  {
   "cell_type": "code",
   "execution_count": null,
   "metadata": {},
   "outputs": [],
   "source": []
  }
 ],
 "metadata": {
  "kernelspec": {
   "display_name": "Python 3",
   "language": "python",
   "name": "python3"
  },
  "language_info": {
   "codemirror_mode": {
    "name": "ipython",
    "version": 3
   },
   "file_extension": ".py",
   "mimetype": "text/x-python",
   "name": "python",
   "nbconvert_exporter": "python",
   "pygments_lexer": "ipython3",
   "version": "3.7.4"
  }
 },
 "nbformat": 4,
 "nbformat_minor": 2
}
