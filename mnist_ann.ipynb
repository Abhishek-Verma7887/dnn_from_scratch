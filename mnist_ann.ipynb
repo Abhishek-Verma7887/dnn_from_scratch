{
 "cells": [
  {
   "cell_type": "code",
   "execution_count": 1,
   "metadata": {},
   "outputs": [],
   "source": [
    "import matplotlib.pyplot as plt\n",
    "import numpy as np\n",
    "import cupy as cp"
   ]
  },
  {
   "cell_type": "code",
   "execution_count": 2,
   "metadata": {},
   "outputs": [
    {
     "name": "stdout",
     "output_type": "stream",
     "text": [
      "Loading dataset....\n",
      "Done.\n"
     ]
    }
   ],
   "source": [
    "from mnist import MNIST\n",
    "print(\"Loading dataset....\")\n",
    "mndata = MNIST('../mnist_dataset')\n",
    "X_train, y_train = mndata.load_training()\n",
    "X_train = (mndata.process_images_to_numpy(X_train)/255).astype(np.float32,copy=False)\n",
    "y_train = np.asarray(y_train,dtype=np.uint8)\n",
    "X_test, y_test = mndata.load_testing()\n",
    "X_test = (mndata.process_images_to_numpy(X_test)/255).astype(np.float32,copy=False)\n",
    "y_test = np.asarray(y_test,dtype=np.uint8)\n",
    "print(\"Done.\")"
   ]
  },
  {
   "cell_type": "code",
   "execution_count": 3,
   "metadata": {},
   "outputs": [],
   "source": [
    "def one_hot_encode(y):\n",
    "    Yo=np.zeros((y.size,int(y.max())+1),dtype=np.float32)\n",
    "    Yo[np.arange(y.size),y]=1\n",
    "    return Yo"
   ]
  },
  {
   "cell_type": "code",
   "execution_count": 4,
   "metadata": {},
   "outputs": [],
   "source": [
    "y_train=one_hot_encode(y_train)\n",
    "y_test=one_hot_encode(y_test)"
   ]
  },
  {
   "cell_type": "code",
   "execution_count": 5,
   "metadata": {
    "scrolled": true
   },
   "outputs": [
    {
     "name": "stdout",
     "output_type": "stream",
     "text": [
      "Seed: 305\n"
     ]
    }
   ],
   "source": [
    "from nnet_gpu.network import Sequential,layers\n",
    "from nnet_gpu.layers import dense\n",
    "from nnet_gpu import functions\n",
    "from nnet_gpu import optimizers\n",
    "import numpy as np"
   ]
  },
  {
   "cell_type": "code",
   "execution_count": 6,
   "metadata": {
    "scrolled": true
   },
   "outputs": [],
   "source": [
    "model=Sequential()\n",
    "model.add(dense(2048,input_shape=(784),activation=functions.relu))\n",
    "model.add(dense(1024,activation=functions.relu))\n",
    "model.add(dense(512,activation=functions.relu))\n",
    "model.add(dense(256,activation=functions.relu))\n",
    "model.add(dense(128,activation=functions.relu))\n",
    "model.add(dense(10,activation=functions.softmax))"
   ]
  },
  {
   "cell_type": "code",
   "execution_count": 7,
   "metadata": {},
   "outputs": [
    {
     "name": "stdout",
     "output_type": "stream",
     "text": [
      "⎽⎽⎽⎽⎽⎽⎽⎽⎽⎽⎽⎽⎽⎽⎽⎽⎽⎽⎽⎽⎽⎽⎽⎽⎽⎽⎽⎽⎽⎽⎽⎽⎽⎽⎽⎽⎽⎽⎽⎽⎽⎽⎽⎽⎽⎽⎽⎽⎽⎽⎽⎽⎽⎽⎽⎽⎽⎽⎽⎽⎽⎽⎽⎽⎽⎽⎽⎽⎽⎽⎽⎽⎽⎽⎽⎽⎽⎽⎽⎽⎽⎽⎽⎽⎽⎽⎽⎽⎽⎽\n",
      "Layer (type)               Output Shape             Activation        Param #\n",
      "==========================================================================================\n",
      "- input_layer(InputLayer) (None, 784)                echo             0\n",
      "__________________________________________________________________________________________\n",
      "0 dense(dense)            (None, 2048)               relu             1607680\n",
      "__________________________________________________________________________________________\n",
      "1 dense(dense)            (None, 1024)               relu             2098176\n",
      "__________________________________________________________________________________________\n",
      "2 dense(dense)            (None, 512)                relu             524800\n",
      "__________________________________________________________________________________________\n",
      "3 dense(dense)            (None, 256)                relu             131328\n",
      "__________________________________________________________________________________________\n",
      "4 dense(dense)            (None, 128)                relu             32896\n",
      "__________________________________________________________________________________________\n",
      "5 dense(dense)            (None, 10)                 softmax          1290\n",
      "==========================================================================================\n",
      "Total Params: 4,396,170\n",
      "Trainable Params: 4,396,170\n",
      "Non-trainable Params: 0\n"
     ]
    }
   ],
   "source": [
    "model.summary()"
   ]
  },
  {
   "cell_type": "code",
   "execution_count": 8,
   "metadata": {},
   "outputs": [],
   "source": [
    "model.compile(optimizer=optimizers.iterative,loss=functions.cross_entropy_with_logits,learning_rate=0.001)"
   ]
  },
  {
   "cell_type": "code",
   "execution_count": 9,
   "metadata": {},
   "outputs": [],
   "source": [
    "X_train=cp.asarray(X_train)\n",
    "y_train=cp.asarray(y_train)\n",
    "X_test=cp.asarray(X_test)\n",
    "y_test=cp.asarray(y_test)"
   ]
  },
  {
   "cell_type": "code",
   "execution_count": 10,
   "metadata": {},
   "outputs": [
    {
     "name": "stdout",
     "output_type": "stream",
     "text": [
      "EPOCH: 1 / 10\n",
      "Progress:  60160 / 60000  - 0s - 0.024s/sample - loss: 2.2095 - accuracy: 0.1171      __\n",
      "Epoch time: 6.429s\n",
      "Validation Accuracy: 0.113 - val_loss: 4.7832\n",
      "EPOCH: 2 / 10\n",
      "Progress:  60160 / 60000  - 0s - 0.024s/sample - loss: 2.2160 - accuracy: 0.0988      _\n",
      "Epoch time: 6.209s\n",
      "Validation Accuracy: 0.113 - val_loss: 4.7833\n",
      "EPOCH: 3 / 10\n",
      "Progress:  60160 / 60000  - 0s - 0.024s/sample - loss: 2.2080 - accuracy: 0.1137      _\n",
      "Epoch time: 6.228s\n",
      "Validation Accuracy: 0.113 - val_loss: 4.7830\n",
      "EPOCH: 4 / 10\n",
      "Progress:  60160 / 60000  - 0s - 0.024s/sample - loss: 2.2032 - accuracy: 0.1124      _\n",
      "Epoch time: 6.259s\n",
      "Validation Accuracy: 0.113 - val_loss: 4.7839\n",
      "EPOCH: 5 / 10\n",
      "Progress:  60160 / 60000  - 0s - 0.024s/sample - loss: 2.2141 - accuracy: 0.1095      _\n",
      "Epoch time: 6.225s\n",
      "Validation Accuracy: 0.113 - val_loss: 4.7832\n",
      "EPOCH: 6 / 10\n",
      "Progress:  60160 / 60000  - 0s - 0.024s/sample - loss: 2.2042 - accuracy: 0.1214      _\n",
      "Epoch time: 6.202s\n",
      "Validation Accuracy: 0.113 - val_loss: 4.7842\n",
      "EPOCH: 7 / 10\n",
      "Progress:  60160 / 60000  - 0s - 0.024s/sample - loss: 2.2023 - accuracy: 0.1170      _\n",
      "Epoch time: 6.211s\n",
      "Validation Accuracy: 0.113 - val_loss: 4.7835\n",
      "EPOCH: 8 / 10\n",
      "Progress:  60160 / 60000  - 0s - 0.024s/sample - loss: 2.2037 - accuracy: 0.1117      _\n",
      "Epoch time: 6.201s\n",
      "Validation Accuracy: 0.113 - val_loss: 4.7835\n",
      "EPOCH: 9 / 10\n",
      "Progress:  60160 / 60000  - 0s - 0.024s/sample - loss: 2.2018 - accuracy: 0.1197      _\n",
      "Epoch time: 6.190s\n",
      "Validation Accuracy: 0.113 - val_loss: 4.7846\n",
      "EPOCH: 10 / 10\n",
      "Progress:  60160 / 60000  - 0s - 0.024s/sample - loss: 2.2172 - accuracy: 0.1035      _\n",
      "Epoch time: 6.213s\n",
      "Validation Accuracy: 0.113 - val_loss: 4.7835\n"
     ]
    }
   ],
   "source": [
    "model.fit(X_train,y_train,batch_size=256,epochs=10,validation_data=(X_test,y_test))"
   ]
  },
  {
   "cell_type": "code",
   "execution_count": 10,
   "metadata": {},
   "outputs": [
    {
     "name": "stdout",
     "output_type": "stream",
     "text": [
      "EPOCH: 1 / 10\n",
      "Progress:  60160 / 60000  - 0s - 0.0077s/sample - loss: 0.1658 - accuracy: 0.9531      _\n",
      "Epoch time: 14.927s\n",
      "Validation Accuracy: 0.950 - val_loss: 0.3488\n",
      "EPOCH: 2 / 10\n",
      "Progress:  60160 / 60000  - 0s - 0.0081s/sample - loss: 0.1063 - accuracy: 0.9675      _\n",
      "Epoch time: 14.723s\n",
      "Validation Accuracy: 0.962 - val_loss: 0.2618\n",
      "EPOCH: 3 / 10\n",
      "Progress:  60160 / 60000  - 0s - 0.0076s/sample - loss: 0.0987 - accuracy: 0.9783      _\n",
      "Epoch time: 14.833s\n",
      "Validation Accuracy: 0.972 - val_loss: 0.2042\n",
      "EPOCH: 4 / 10\n",
      "Progress:  25344 / 60000  - 1s - 0.0078s/sample - loss: 0.1693 - accuracy: 0.9799      _"
     ]
    },
    {
     "ename": "KeyboardInterrupt",
     "evalue": "",
     "output_type": "error",
     "traceback": [
      "\u001b[0;31m---------------------------------------------------------------------------\u001b[0m",
      "\u001b[0;31mKeyboardInterrupt\u001b[0m                         Traceback (most recent call last)",
      "\u001b[0;32m<ipython-input-10-7e88eb83c3bc>\u001b[0m in \u001b[0;36m<module>\u001b[0;34m\u001b[0m\n\u001b[0;32m----> 1\u001b[0;31m \u001b[0mmodel\u001b[0m\u001b[0;34m.\u001b[0m\u001b[0mfit\u001b[0m\u001b[0;34m(\u001b[0m\u001b[0mX_train\u001b[0m\u001b[0;34m,\u001b[0m\u001b[0my_train\u001b[0m\u001b[0;34m,\u001b[0m\u001b[0mbatch_size\u001b[0m\u001b[0;34m=\u001b[0m\u001b[0;36m256\u001b[0m\u001b[0;34m,\u001b[0m\u001b[0mepochs\u001b[0m\u001b[0;34m=\u001b[0m\u001b[0;36m10\u001b[0m\u001b[0;34m,\u001b[0m\u001b[0mvalidation_data\u001b[0m\u001b[0;34m=\u001b[0m\u001b[0;34m(\u001b[0m\u001b[0mX_test\u001b[0m\u001b[0;34m,\u001b[0m\u001b[0my_test\u001b[0m\u001b[0;34m)\u001b[0m\u001b[0;34m)\u001b[0m\u001b[0;34m\u001b[0m\u001b[0;34m\u001b[0m\u001b[0m\n\u001b[0m",
      "\u001b[0;32m~/machine_learning/dnn_from_scratch/nnet_gpu/network.py\u001b[0m in \u001b[0;36mfit\u001b[0;34m(self, X_inp, labels, iterator, batch_size, epochs, validation_data, shuffle, accuracy_metric, infobeta)\u001b[0m\n\u001b[1;32m     89\u001b[0m                                 \u001b[0mrem_sam\u001b[0m\u001b[0;34m=\u001b[0m\u001b[0;34m(\u001b[0m\u001b[0mlnxinp\u001b[0m\u001b[0;34m-\u001b[0m\u001b[0midx\u001b[0m\u001b[0;34m)\u001b[0m\u001b[0;34m/\u001b[0m\u001b[0mbatch_size\u001b[0m\u001b[0;34m\u001b[0m\u001b[0;34m\u001b[0m\u001b[0m\n\u001b[1;32m     90\u001b[0m                                 \u001b[0meta\u001b[0m\u001b[0;34m=\u001b[0m\u001b[0mint\u001b[0m\u001b[0;34m(\u001b[0m\u001b[0mrem_sam\u001b[0m\u001b[0;34m*\u001b[0m\u001b[0msam_time\u001b[0m\u001b[0;34m)\u001b[0m\u001b[0;34m\u001b[0m\u001b[0;34m\u001b[0m\u001b[0m\n\u001b[0;32m---> 91\u001b[0;31m                                 \u001b[0mprint\u001b[0m\u001b[0;34m(\u001b[0m\u001b[0;34m\"\\rProgress: {} / {}  - {}s - {:.2}s/sample - loss: {:.4f} - accuracy: {:.4f}\"\u001b[0m\u001b[0;34m.\u001b[0m\u001b[0mformat\u001b[0m\u001b[0;34m(\u001b[0m\u001b[0mstr\u001b[0m\u001b[0;34m(\u001b[0m\u001b[0midx\u001b[0m\u001b[0;34m)\u001b[0m\u001b[0;34m.\u001b[0m\u001b[0mrjust\u001b[0m\u001b[0;34m(\u001b[0m\u001b[0;36m6\u001b[0m\u001b[0;34m)\u001b[0m\u001b[0;34m,\u001b[0m\u001b[0mlnxinp\u001b[0m\u001b[0;34m,\u001b[0m\u001b[0meta\u001b[0m\u001b[0;34m,\u001b[0m\u001b[0msam_time\u001b[0m\u001b[0;34m,\u001b[0m\u001b[0msample_loss\u001b[0m\u001b[0;34m.\u001b[0m\u001b[0mget\u001b[0m\u001b[0;34m(\u001b[0m\u001b[0;34m)\u001b[0m\u001b[0;34m,\u001b[0m\u001b[0macc\u001b[0m\u001b[0;34m.\u001b[0m\u001b[0mget\u001b[0m\u001b[0;34m(\u001b[0m\u001b[0;34m)\u001b[0m\u001b[0;34m)\u001b[0m\u001b[0;34m,\u001b[0m\u001b[0mend\u001b[0m\u001b[0;34m=\u001b[0m\u001b[0;34m\"      _\"\u001b[0m\u001b[0;34m)\u001b[0m\u001b[0;34m\u001b[0m\u001b[0;34m\u001b[0m\u001b[0m\n\u001b[0m\u001b[1;32m     92\u001b[0m                         \u001b[0mend\u001b[0m\u001b[0;34m=\u001b[0m\u001b[0mtime\u001b[0m\u001b[0;34m.\u001b[0m\u001b[0mtime\u001b[0m\u001b[0;34m(\u001b[0m\u001b[0;34m)\u001b[0m\u001b[0;34m\u001b[0m\u001b[0;34m\u001b[0m\u001b[0m\n\u001b[1;32m     93\u001b[0m                         \u001b[0mprint\u001b[0m\u001b[0;34m(\u001b[0m\u001b[0;34m\"\\nEpoch time: {:.3f}s\"\u001b[0m\u001b[0;34m.\u001b[0m\u001b[0mformat\u001b[0m\u001b[0;34m(\u001b[0m\u001b[0mend\u001b[0m\u001b[0;34m-\u001b[0m\u001b[0mstart\u001b[0m\u001b[0;34m)\u001b[0m\u001b[0;34m)\u001b[0m\u001b[0;34m\u001b[0m\u001b[0;34m\u001b[0m\u001b[0m\n",
      "\u001b[0;31mKeyboardInterrupt\u001b[0m: "
     ]
    }
   ],
   "source": [
    "model.fit(X_train,y_train,batch_size=256,epochs=10,validation_data=(X_test,y_test))"
   ]
  },
  {
   "cell_type": "code",
   "execution_count": null,
   "metadata": {},
   "outputs": [],
   "source": []
  }
 ],
 "metadata": {
  "kernelspec": {
   "display_name": "Python 3",
   "language": "python",
   "name": "python3"
  },
  "language_info": {
   "codemirror_mode": {
    "name": "ipython",
    "version": 3
   },
   "file_extension": ".py",
   "mimetype": "text/x-python",
   "name": "python",
   "nbconvert_exporter": "python",
   "pygments_lexer": "ipython3",
   "version": "3.8.2"
  }
 },
 "nbformat": 4,
 "nbformat_minor": 2
}
