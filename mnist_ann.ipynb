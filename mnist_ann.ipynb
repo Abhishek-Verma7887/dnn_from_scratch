{
 "cells": [
  {
   "cell_type": "code",
   "execution_count": 1,
   "metadata": {},
   "outputs": [],
   "source": [
    "import matplotlib.pyplot as plt\n",
    "import numpy as np\n",
    "import cupy as cp"
   ]
  },
  {
   "cell_type": "code",
   "execution_count": 2,
   "metadata": {},
   "outputs": [
    {
     "name": "stdout",
     "output_type": "stream",
     "text": [
      "Loading dataset....\n",
      "Done.\n"
     ]
    }
   ],
   "source": [
    "from mnist import MNIST\n",
    "print(\"Loading dataset....\")\n",
    "mndata = MNIST('../mnist_dataset')\n",
    "X_train, y_train = mndata.load_training()\n",
    "X_train = (mndata.process_images_to_numpy(X_train)/255).astype(np.float32,copy=False)\n",
    "y_train = np.asarray(y_train,dtype=np.uint8)\n",
    "X_test, y_test = mndata.load_testing()\n",
    "X_test = (mndata.process_images_to_numpy(X_test)/255).astype(np.float32,copy=False)\n",
    "y_test = np.asarray(y_test,dtype=np.uint8)\n",
    "print(\"Done.\")"
   ]
  },
  {
   "cell_type": "code",
   "execution_count": 3,
   "metadata": {},
   "outputs": [],
   "source": [
    "def one_hot_encode(y):\n",
    "    Yo=np.zeros((y.size,int(y.max())+1),dtype=np.float32)\n",
    "    Yo[np.arange(y.size),y]=1\n",
    "    return Yo"
   ]
  },
  {
   "cell_type": "code",
   "execution_count": 4,
   "metadata": {},
   "outputs": [],
   "source": [
    "y_train=one_hot_encode(y_train)\n",
    "y_test=one_hot_encode(y_test)"
   ]
  },
  {
   "cell_type": "code",
   "execution_count": 5,
   "metadata": {
    "scrolled": true
   },
   "outputs": [
    {
     "name": "stdout",
     "output_type": "stream",
     "text": [
      "Seed: 957\n"
     ]
    }
   ],
   "source": [
    "from nnet_gpu.network import Sequential,layers\n",
    "from nnet_gpu.layers import dense\n",
    "from nnet_gpu import functions\n",
    "from nnet_gpu import optimizers\n",
    "import numpy as np"
   ]
  },
  {
   "cell_type": "code",
   "execution_count": 6,
   "metadata": {},
   "outputs": [],
   "source": [
    "X_train=cp.asarray(X_train)\n",
    "y_train=cp.asarray(y_train)\n",
    "X_test=cp.asarray(X_test)\n",
    "y_test=cp.asarray(y_test)"
   ]
  },
  {
   "cell_type": "code",
   "execution_count": 7,
   "metadata": {
    "scrolled": true
   },
   "outputs": [],
   "source": [
    "model=Sequential()\n",
    "model.add(dense(2048,input_shape=(784),activation=functions.relu))\n",
    "model.add(dense(1024,activation=functions.relu))\n",
    "model.add(dense(512,activation=functions.relu))\n",
    "model.add(dense(256,activation=functions.relu))\n",
    "model.add(dense(128,activation=functions.relu))\n",
    "model.add(dense(10,activation=functions.softmax))"
   ]
  },
  {
   "cell_type": "code",
   "execution_count": 8,
   "metadata": {},
   "outputs": [
    {
     "name": "stdout",
     "output_type": "stream",
     "text": [
      "⎽⎽⎽⎽⎽⎽⎽⎽⎽⎽⎽⎽⎽⎽⎽⎽⎽⎽⎽⎽⎽⎽⎽⎽⎽⎽⎽⎽⎽⎽⎽⎽⎽⎽⎽⎽⎽⎽⎽⎽⎽⎽⎽⎽⎽⎽⎽⎽⎽⎽⎽⎽⎽⎽⎽⎽⎽⎽⎽⎽⎽⎽⎽⎽⎽⎽⎽⎽⎽⎽⎽⎽⎽⎽⎽⎽⎽⎽⎽⎽⎽⎽⎽⎽⎽⎽⎽⎽⎽⎽\n",
      "Layer (type)               Output Shape             Activation        Param #\n",
      "==========================================================================================\n",
      "- input_layer(InputLayer) (None, 784)                echo             0\n",
      "__________________________________________________________________________________________\n",
      "0 dense(dense)            (None, 2048)               relu             1607680\n",
      "__________________________________________________________________________________________\n",
      "1 dense(dense)            (None, 1024)               relu             2098176\n",
      "__________________________________________________________________________________________\n",
      "2 dense(dense)            (None, 512)                relu             524800\n",
      "__________________________________________________________________________________________\n",
      "3 dense(dense)            (None, 256)                relu             131328\n",
      "__________________________________________________________________________________________\n",
      "4 dense(dense)            (None, 128)                relu             32896\n",
      "__________________________________________________________________________________________\n",
      "5 dense(dense)            (None, 10)                 softmax          1290\n",
      "==========================================================================================\n",
      "Total Params: 4,396,170\n",
      "Trainable Params: 4,396,170\n",
      "Non-trainable Params: 0\n"
     ]
    }
   ],
   "source": [
    "model.summary()"
   ]
  },
  {
   "cell_type": "code",
   "execution_count": 9,
   "metadata": {},
   "outputs": [],
   "source": [
    "model.compile(optimizer=optimizers.adam,loss=functions.cross_entropy_with_logits,learning_rate=0.001)"
   ]
  },
  {
   "cell_type": "code",
   "execution_count": 10,
   "metadata": {},
   "outputs": [
    {
     "name": "stdout",
     "output_type": "stream",
     "text": [
      "EPOCH: 1 / 10\n",
      "Progress:  60160 / 60000  - 0s - 0.027s/sample - loss: 0.1285 - accuracy: 0.9512      __\n",
      "Epoch time: 7.334s\n",
      "Validation Accuracy: 0.947 - val_loss: 0.3219\n",
      "EPOCH: 2 / 10\n",
      "Progress:  60160 / 60000  - 0s - 0.027s/sample - loss: 0.0918 - accuracy: 0.9617      _\n",
      "Epoch time: 6.905s\n",
      "Validation Accuracy: 0.964 - val_loss: 0.2408\n",
      "EPOCH: 3 / 10\n",
      "Progress:  60160 / 60000  - 0s - 0.027s/sample - loss: 0.0796 - accuracy: 0.9786      _\n",
      "Epoch time: 6.936s\n",
      "Validation Accuracy: 0.973 - val_loss: 0.2066\n",
      "EPOCH: 4 / 10\n",
      "Progress:  60160 / 60000  - 0s - 0.027s/sample - loss: 0.0089 - accuracy: 0.9881      _\n",
      "Epoch time: 6.951s\n",
      "Validation Accuracy: 0.977 - val_loss: 0.1836\n",
      "EPOCH: 5 / 10\n",
      "Progress:  60160 / 60000  - 0s - 0.027s/sample - loss: 0.2300 - accuracy: 0.9801      _\n",
      "Epoch time: 6.934s\n",
      "Validation Accuracy: 0.976 - val_loss: 0.1617\n",
      "EPOCH: 6 / 10\n",
      "Progress:  60160 / 60000  - 0s - 0.027s/sample - loss: 0.0612 - accuracy: 0.9890      _\n",
      "Epoch time: 6.928s\n",
      "Validation Accuracy: 0.977 - val_loss: 0.1803\n",
      "EPOCH: 7 / 10\n",
      "Progress:  60160 / 60000  - 0s - 0.027s/sample - loss: 0.0287 - accuracy: 0.9907      _\n",
      "Epoch time: 6.959s\n",
      "Validation Accuracy: 0.979 - val_loss: 0.1634\n",
      "EPOCH: 8 / 10\n",
      "Progress:  60160 / 60000  - 0s - 0.027s/sample - loss: 0.0005 - accuracy: 0.9960      _\n",
      "Epoch time: 6.945s\n",
      "Validation Accuracy: 0.978 - val_loss: 0.1783\n",
      "EPOCH: 9 / 10\n",
      "Progress:  60160 / 60000  - 0s - 0.027s/sample - loss: 0.0058 - accuracy: 0.9963      _\n",
      "Epoch time: 6.944s\n",
      "Validation Accuracy: 0.976 - val_loss: 0.2538\n",
      "EPOCH: 10 / 10\n",
      "Progress:  60160 / 60000  - 0s - 0.027s/sample - loss: 0.0548 - accuracy: 0.9965      _\n",
      "Epoch time: 6.888s\n",
      "Validation Accuracy: 0.980 - val_loss: 0.1765\n"
     ]
    }
   ],
   "source": [
    "model.fit(X_train,y_train,batch_size=256,epochs=10,validation_data=(X_test,y_test))"
   ]
  },
  {
   "cell_type": "code",
   "execution_count": null,
   "metadata": {},
   "outputs": [],
   "source": []
  }
 ],
 "metadata": {
  "kernelspec": {
   "display_name": "Python 3",
   "language": "python",
   "name": "python3"
  },
  "language_info": {
   "codemirror_mode": {
    "name": "ipython",
    "version": 3
   },
   "file_extension": ".py",
   "mimetype": "text/x-python",
   "name": "python",
   "nbconvert_exporter": "python",
   "pygments_lexer": "ipython3",
   "version": "3.8.2"
  }
 },
 "nbformat": 4,
 "nbformat_minor": 2
}
