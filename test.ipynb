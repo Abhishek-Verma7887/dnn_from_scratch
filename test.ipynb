{
 "cells": [
  {
   "cell_type": "code",
   "execution_count": 1,
   "metadata": {},
   "outputs": [],
   "source": [
    "import timeit\n",
    "import numpy as np\n",
    "import matplotlib.pyplot as plt\n",
    "import pickle\n",
    "from time import time"
   ]
  },
  {
   "cell_type": "code",
   "execution_count": 2,
   "metadata": {},
   "outputs": [],
   "source": [
    "def init_kernel_bias(num_inp_channels, kernel_size, num_kernels,mean=0,std=0.01):\n",
    "    shape = [num_inp_channels, kernel_size, kernel_size, num_kernels]\n",
    "    weights = std*np.random.randn(*shape) + mean\n",
    "    # weights/=np.sqrt(num_inp_channels)\n",
    "    bias = std*np.random.randn(1,num_kernels) + mean\n",
    "    return weights.astype(np.float32), bias.astype(np.float32)"
   ]
  },
  {
   "cell_type": "code",
   "execution_count": 5,
   "metadata": {},
   "outputs": [],
   "source": [
    "def conv2d(self,inp,kernels,biases,stride=[1,1],padding=0):     #padding=(ksz-1)/2 for same shape in stride 1\n",
    "    #inp[batches,row,col,d],kernels(d,ksz,ksz,num_ker),biases[1,num_ker],stride[row,col]\n",
    "    inp=inp.transpose(0,3,1,2)  #inp[batches,d,row,col]\n",
    "    output=[]\n",
    "    ksz=kernels.shape[1]\n",
    "    num_ker=kernels.shape[3]\n",
    "    if not padding:                         #take care of padding in backprop too\n",
    "        padding=(ksz-1)//2                  #currently don't give 'even' ksz\n",
    "    out_row,out_col=((inp.shape[2]-ksz+2*padding)//stride[0]+1),((inp.shape[3]-ksz+2*padding)//stride[1]+1)\n",
    "    batches,d,row,col=inp.shape\n",
    "    row+=2*padding\n",
    "    col+=2*padding\n",
    "    padded=np.zeros((batches,d,row,col))\n",
    "    padded[:,:,padding:-padding,padding:-padding]=inp\n",
    "    # Take all windows into a matrix       # TO-DO: Cache up these calculations\n",
    "    window=(np.arange(ksz)[:,None]*row+np.arange(ksz)).ravel()+np.arange(d)[:,None]*row*col\n",
    "    slider=(np.arange(out_row*stride[0])[:,None]*row+np.arange(out_col*stride[1]))\n",
    "    ind = window.ravel()+slider[::stride[0],::stride[1]].ravel()[:,None]\n",
    "    kern = kernels.reshape(-1,num_ker)\n",
    "    for img in padded:      #img[d,row,col]     #TODO: MAKE THIS FOR LOOP INTO SINGLE NUMPY OPERATION\n",
    "        # windows(out_row*out_col, ksz*ksz*d) . kernels(d*ksz*ksz,num_ker)\n",
    "        out=(np.dot(np.take(img, ind), kern))\n",
    "        out=(out+biases).reshape(out_row,out_col,num_ker)\n",
    "        output.append(out)\n",
    "#     output=np.array([(np.dot(np.take(i,ind),kern)+biases) for i in padded]).reshape(batches,out_row,out_col,num_ker)\n",
    "#     bind= np.arange(batches)[:,None]*d*row*col+ind.ravel()\t\t#for batches\n",
    "#     output=(np.dot(np.take(padded, bind).reshape(-1,d*ksz*ksz), kern)+biases).reshape(batches,out_row,out_col,num_ker)\n",
    "    return np.array(output) #output[batches,out_row,out_col,num_ker]"
   ]
  },
  {
   "cell_type": "code",
   "execution_count": null,
   "metadata": {},
   "outputs": [],
   "source": [
    "%timeit conv0=conv2d(1,inp,w0,b0)"
   ]
  },
  {
   "cell_type": "code",
   "execution_count": null,
   "metadata": {},
   "outputs": [],
   "source": [
    "%timeit conv0=nn.conv2d(inp,w0,b0)"
   ]
  },
  {
   "cell_type": "code",
   "execution_count": null,
   "metadata": {},
   "outputs": [],
   "source": [
    "conv0=conv2d(1,inp,w0,b0)"
   ]
  },
  {
   "cell_type": "code",
   "execution_count": null,
   "metadata": {},
   "outputs": [],
   "source": [
    "%timeit d_X_inp,d_w0,d_b0=nn.conv2d_back(errors=conv0,inp=inp,kernels=w0,biases=b0)"
   ]
  },
  {
   "cell_type": "code",
   "execution_count": null,
   "metadata": {},
   "outputs": [],
   "source": [
    "conv0.shape"
   ]
  },
  {
   "cell_type": "code",
   "execution_count": 4,
   "metadata": {},
   "outputs": [
    {
     "data": {
      "text/plain": [
       "(1, 3, 3, 1)"
      ]
     },
     "execution_count": 4,
     "metadata": {},
     "output_type": "execute_result"
    }
   ],
   "source": [
    "inp=np.random.randint(0,9,(1,4,4,1)).astype(np.float32)\n",
    "w0,b0=init_kernel_bias(num_inp_channels=1,kernel_size=3,num_kernels=1)\n",
    "w0.shape"
   ]
  },
  {
   "cell_type": "code",
   "execution_count": 14,
   "metadata": {},
   "outputs": [
    {
     "data": {
      "text/plain": [
       "(1, 16, 16, 32)"
      ]
     },
     "execution_count": 14,
     "metadata": {},
     "output_type": "execute_result"
    }
   ],
   "source": [
    "inp=np.random.randint(0,9,(128,32,32,64)).astype(np.float32)\n",
    "w0,b0=init_kernel_bias(num_inp_channels=64,kernel_size=3,num_kernels=32)\n",
    "w0.shape"
   ]
  },
  {
   "cell_type": "code",
   "execution_count": 6,
   "metadata": {},
   "outputs": [],
   "source": [
    "dilation=[1,1]"
   ]
  },
  {
   "cell_type": "code",
   "execution_count": 7,
   "metadata": {},
   "outputs": [],
   "source": [
    "#inp[batches,row,col,d],w0(d,ksz,ksz,num_ker),b0[1,num_ker],stride[row,col]\n",
    "padding=1\n",
    "stride=[2,2]\n",
    "ipp=inp.transpose(0,3,1,2)  #ipp[batches,d,row,col]\n",
    "output=[]\n",
    "ksz=w0.shape[1]\n",
    "num_ker=w0.shape[3]\n",
    "if not padding: #take care of padding in backprop too\n",
    "    padding=(ksz-1)//2  #currently don't give 'even' ksz\n",
    "out_row,out_col=((ipp.shape[2]-ksz+2*padding-(ksz-1)*(dilation[0]-1))//stride[0]+1),((ipp.shape[3]-ksz+2*padding-(ksz-1)*(dilation[1]-1))//stride[1]+1)\n",
    "batches,d,row,col=ipp.shape\n",
    "row+=2*padding\n",
    "col+=2*padding\n",
    "padded=np.zeros((batches,d,row,col),dtype=np.float32)\n",
    "padded[:,:,padding:-padding,padding:-padding]=ipp"
   ]
  },
  {
   "cell_type": "code",
   "execution_count": 9,
   "metadata": {},
   "outputs": [
    {
     "name": "stdout",
     "output_type": "stream",
     "text": [
      "39.1 ms ± 244 µs per loop (mean ± std. dev. of 7 runs, 10 loops each)\n"
     ]
    }
   ],
   "source": [
    "%timeit padded[:,:,padding:-padding:1,padding:-padding:1]=ipp"
   ]
  },
  {
   "cell_type": "code",
   "execution_count": 10,
   "metadata": {},
   "outputs": [
    {
     "data": {
      "text/plain": [
       "(66, 66, 32)"
      ]
     },
     "execution_count": 10,
     "metadata": {},
     "output_type": "execute_result"
    }
   ],
   "source": [
    "img=padded[0]\n",
    "row,col,d"
   ]
  },
  {
   "cell_type": "code",
   "execution_count": 11,
   "metadata": {},
   "outputs": [],
   "source": [
    "out_row=2\n",
    "out_col=2"
   ]
  },
  {
   "cell_type": "code",
   "execution_count": 12,
   "metadata": {},
   "outputs": [],
   "source": [
    "dksz=ksz+(ksz-1)*(dilation[0]-1)"
   ]
  },
  {
   "cell_type": "code",
   "execution_count": 13,
   "metadata": {},
   "outputs": [],
   "source": [
    "# %%timeit\n",
    "window=(np.arange(dksz,step=dilation[0])[:,None]*row+np.arange(dksz,step=dilation[1])).ravel()+np.arange(d)[:,None]*row*col\n",
    "slider=(np.arange(out_row*stride[0])[:,None]*row+np.arange(out_col*stride[1]))\n",
    "ind = window.ravel()+slider[::stride[0],::stride[1]].ravel()[:,None]\n",
    "# bind= np.arange(batches)[:,None]*d*row*col+ind.ravel()\n",
    "kern = w0.reshape(-1,num_ker)\n",
    "# output=(np.dot(np.take(padded, bind).reshape(-1,d*ksz*ksz), kern)).reshape(batches,out_row,out_col,num_ker)"
   ]
  },
  {
   "cell_type": "code",
   "execution_count": 14,
   "metadata": {},
   "outputs": [
    {
     "data": {
      "text/plain": [
       "((32, 66, 66), 66, 66, 2, 2, 3)"
      ]
     },
     "execution_count": 14,
     "metadata": {},
     "output_type": "execute_result"
    }
   ],
   "source": [
    "img.shape,row,col,out_row,out_col,ksz"
   ]
  },
  {
   "cell_type": "code",
   "execution_count": 15,
   "metadata": {
    "collapsed": true
   },
   "outputs": [
    {
     "data": {
      "text/plain": [
       "array([[     0,      1,      2,     66,     67,     68,    132,    133,\n",
       "           134],\n",
       "       [  4356,   4357,   4358,   4422,   4423,   4424,   4488,   4489,\n",
       "          4490],\n",
       "       [  8712,   8713,   8714,   8778,   8779,   8780,   8844,   8845,\n",
       "          8846],\n",
       "       [ 13068,  13069,  13070,  13134,  13135,  13136,  13200,  13201,\n",
       "         13202],\n",
       "       [ 17424,  17425,  17426,  17490,  17491,  17492,  17556,  17557,\n",
       "         17558],\n",
       "       [ 21780,  21781,  21782,  21846,  21847,  21848,  21912,  21913,\n",
       "         21914],\n",
       "       [ 26136,  26137,  26138,  26202,  26203,  26204,  26268,  26269,\n",
       "         26270],\n",
       "       [ 30492,  30493,  30494,  30558,  30559,  30560,  30624,  30625,\n",
       "         30626],\n",
       "       [ 34848,  34849,  34850,  34914,  34915,  34916,  34980,  34981,\n",
       "         34982],\n",
       "       [ 39204,  39205,  39206,  39270,  39271,  39272,  39336,  39337,\n",
       "         39338],\n",
       "       [ 43560,  43561,  43562,  43626,  43627,  43628,  43692,  43693,\n",
       "         43694],\n",
       "       [ 47916,  47917,  47918,  47982,  47983,  47984,  48048,  48049,\n",
       "         48050],\n",
       "       [ 52272,  52273,  52274,  52338,  52339,  52340,  52404,  52405,\n",
       "         52406],\n",
       "       [ 56628,  56629,  56630,  56694,  56695,  56696,  56760,  56761,\n",
       "         56762],\n",
       "       [ 60984,  60985,  60986,  61050,  61051,  61052,  61116,  61117,\n",
       "         61118],\n",
       "       [ 65340,  65341,  65342,  65406,  65407,  65408,  65472,  65473,\n",
       "         65474],\n",
       "       [ 69696,  69697,  69698,  69762,  69763,  69764,  69828,  69829,\n",
       "         69830],\n",
       "       [ 74052,  74053,  74054,  74118,  74119,  74120,  74184,  74185,\n",
       "         74186],\n",
       "       [ 78408,  78409,  78410,  78474,  78475,  78476,  78540,  78541,\n",
       "         78542],\n",
       "       [ 82764,  82765,  82766,  82830,  82831,  82832,  82896,  82897,\n",
       "         82898],\n",
       "       [ 87120,  87121,  87122,  87186,  87187,  87188,  87252,  87253,\n",
       "         87254],\n",
       "       [ 91476,  91477,  91478,  91542,  91543,  91544,  91608,  91609,\n",
       "         91610],\n",
       "       [ 95832,  95833,  95834,  95898,  95899,  95900,  95964,  95965,\n",
       "         95966],\n",
       "       [100188, 100189, 100190, 100254, 100255, 100256, 100320, 100321,\n",
       "        100322],\n",
       "       [104544, 104545, 104546, 104610, 104611, 104612, 104676, 104677,\n",
       "        104678],\n",
       "       [108900, 108901, 108902, 108966, 108967, 108968, 109032, 109033,\n",
       "        109034],\n",
       "       [113256, 113257, 113258, 113322, 113323, 113324, 113388, 113389,\n",
       "        113390],\n",
       "       [117612, 117613, 117614, 117678, 117679, 117680, 117744, 117745,\n",
       "        117746],\n",
       "       [121968, 121969, 121970, 122034, 122035, 122036, 122100, 122101,\n",
       "        122102],\n",
       "       [126324, 126325, 126326, 126390, 126391, 126392, 126456, 126457,\n",
       "        126458],\n",
       "       [130680, 130681, 130682, 130746, 130747, 130748, 130812, 130813,\n",
       "        130814],\n",
       "       [135036, 135037, 135038, 135102, 135103, 135104, 135168, 135169,\n",
       "        135170]])"
      ]
     },
     "execution_count": 15,
     "metadata": {},
     "output_type": "execute_result"
    }
   ],
   "source": [
    "window"
   ]
  },
  {
   "cell_type": "code",
   "execution_count": 16,
   "metadata": {},
   "outputs": [
    {
     "data": {
      "text/plain": [
       "array([[  0,   1,   2,   3],\n",
       "       [ 66,  67,  68,  69],\n",
       "       [132, 133, 134, 135],\n",
       "       [198, 199, 200, 201]])"
      ]
     },
     "execution_count": 16,
     "metadata": {},
     "output_type": "execute_result"
    }
   ],
   "source": [
    "slider"
   ]
  },
  {
   "cell_type": "code",
   "execution_count": 28,
   "metadata": {
    "scrolled": true
   },
   "outputs": [
    {
     "data": {
      "text/plain": [
       "array([[ 0,  1,  2,  6,  7,  8, 12, 13, 14],\n",
       "       [ 2,  3,  4,  8,  9, 10, 14, 15, 16],\n",
       "       [12, 13, 14, 18, 19, 20, 24, 25, 26],\n",
       "       [14, 15, 16, 20, 21, 22, 26, 27, 28]])"
      ]
     },
     "execution_count": 28,
     "metadata": {},
     "output_type": "execute_result"
    }
   ],
   "source": [
    "ind"
   ]
  },
  {
   "cell_type": "code",
   "execution_count": 17,
   "metadata": {
    "scrolled": true
   },
   "outputs": [
    {
     "data": {
      "text/plain": [
       "(147456, (4, 288))"
      ]
     },
     "execution_count": 17,
     "metadata": {},
     "output_type": "execute_result"
    }
   ],
   "source": [
    "ind.size*batches,ind.shape"
   ]
  },
  {
   "cell_type": "code",
   "execution_count": 18,
   "metadata": {},
   "outputs": [],
   "source": [
    "# padded=np.arange(padded.size,dtype=np.float32).reshape(padded.shape)"
   ]
  },
  {
   "cell_type": "code",
   "execution_count": 19,
   "metadata": {
    "scrolled": true
   },
   "outputs": [
    {
     "data": {
      "text/plain": [
       "(128, 32, 66, 66)"
      ]
     },
     "execution_count": 19,
     "metadata": {},
     "output_type": "execute_result"
    }
   ],
   "source": [
    "padded.shape"
   ]
  },
  {
   "cell_type": "code",
   "execution_count": null,
   "metadata": {},
   "outputs": [],
   "source": [
    "coled=np.empty(ind.size*batches,dtype=np.float32).reshape(-1,d*ksz*ksz)"
   ]
  },
  {
   "cell_type": "code",
   "execution_count": 69,
   "metadata": {},
   "outputs": [
    {
     "data": {
      "text/plain": [
       "(2, 3, 3)"
      ]
     },
     "execution_count": 69,
     "metadata": {},
     "output_type": "execute_result"
    }
   ],
   "source": [
    "batches,out_row,out_col"
   ]
  },
  {
   "cell_type": "code",
   "execution_count": 70,
   "metadata": {},
   "outputs": [
    {
     "data": {
      "text/plain": [
       "(18, 4)"
      ]
     },
     "execution_count": 70,
     "metadata": {},
     "output_type": "execute_result"
    }
   ],
   "source": [
    "coled.shape"
   ]
  },
  {
   "cell_type": "code",
   "execution_count": null,
   "metadata": {},
   "outputs": [],
   "source": [
    "%%time\n",
    "ctake.take(c_void_p(padded.ctypes.data),c_void_p(ind.ctypes.data),c_void_p(coled.ctypes.data),c_int(1),c_int(padded[0].size),c_int(ind.size),c_int(4))"
   ]
  },
  {
   "cell_type": "code",
   "execution_count": 72,
   "metadata": {},
   "outputs": [],
   "source": [
    "a=conv2d(32,kernel_size=3,stride=[2,2],input_shape=(32,32,3))"
   ]
  },
  {
   "cell_type": "code",
   "execution_count": 55,
   "metadata": {},
   "outputs": [
    {
     "data": {
      "text/plain": [
       "(None, 4, 4, 1)"
      ]
     },
     "execution_count": 55,
     "metadata": {},
     "output_type": "execute_result"
    }
   ],
   "source": [
    "a.shape"
   ]
  },
  {
   "cell_type": "code",
   "execution_count": 76,
   "metadata": {},
   "outputs": [
    {
     "name": "stdout",
     "output_type": "stream",
     "text": [
      "CPU times: user 386 µs, sys: 0 ns, total: 386 µs\n",
      "Wall time: 309 µs\n"
     ]
    }
   ],
   "source": [
    "%%time\n",
    "output=np.empty((batches,out_row*out_col,num_ker))\n",
    "for i,img in enumerate(padded):      #img[d,row,col]\n",
    "    # windows(out_row*out_col, ksz*ksz*d) . kernels(d*ksz*ksz,num_ker)\n",
    "    output[i]=np.dot(img.take(ind), kern)+b0\n",
    "ans=output.reshape(batches,out_row,out_col,num_ker)"
   ]
  },
  {
   "cell_type": "code",
   "execution_count": 77,
   "metadata": {},
   "outputs": [
    {
     "data": {
      "text/plain": [
       "((2, 9, 1), (2, 3, 3, 1))"
      ]
     },
     "execution_count": 77,
     "metadata": {},
     "output_type": "execute_result"
    }
   ],
   "source": [
    "output.shape,ans.shape"
   ]
  },
  {
   "cell_type": "code",
   "execution_count": 25,
   "metadata": {},
   "outputs": [
    {
     "name": "stdout",
     "output_type": "stream",
     "text": [
      "CPU times: user 106 µs, sys: 0 ns, total: 106 µs\n",
      "Wall time: 80.3 µs\n"
     ]
    }
   ],
   "source": [
    "%%time\n",
    "output=np.empty((batches,out_row*out_col,num_ker))\n",
    "for i,img in enumerate(padded):      #img[d,row,col]\n",
    "    # windows(out_row*out_col, ksz*ksz*d) . kernels(d*ksz*ksz,num_ker)\n",
    "    output[i]=img.take(ind).dot(kern)\n",
    "if b0 is not 0:\n",
    "    output+=b0\n",
    "ans=output.reshape(batches,out_row,out_col,num_ker)"
   ]
  },
  {
   "cell_type": "code",
   "execution_count": 28,
   "metadata": {},
   "outputs": [
    {
     "name": "stdout",
     "output_type": "stream",
     "text": [
      "1.24 s ± 11 ms per loop (mean ± std. dev. of 7 runs, 1 loop each)\n"
     ]
    }
   ],
   "source": [
    "%%timeit\n",
    "output=np.empty((batches,out_row*out_col,num_ker))\n",
    "for i,img in enumerate(padded):      #img[d,row,col]\n",
    "    # windows(out_row*out_col, ksz*ksz*d) . kernels(d*ksz*ksz,num_ker)\n",
    "    output[i]=np.dot(img.take(ind), kern)\n",
    "output+=b0\n",
    "ans2=output.reshape(batches,out_row,out_col,num_ker)"
   ]
  },
  {
   "cell_type": "code",
   "execution_count": 98,
   "metadata": {
    "scrolled": true
   },
   "outputs": [
    {
     "name": "stdout",
     "output_type": "stream",
     "text": [
      "1.39 s ± 80.9 ms per loop (mean ± std. dev. of 7 runs, 1 loop each)\n"
     ]
    }
   ],
   "source": [
    "%timeit np.array([(np.dot(np.take(i,ind),kern)) for i in padded]).reshape(batches,out_row,out_col,num_ker)"
   ]
  },
  {
   "cell_type": "code",
   "execution_count": 95,
   "metadata": {},
   "outputs": [
    {
     "name": "stdout",
     "output_type": "stream",
     "text": [
      "928 ms ± 54.8 ms per loop (mean ± std. dev. of 7 runs, 1 loop each)\n"
     ]
    }
   ],
   "source": [
    "%timeit (np.dot(np.take(padded, bind).reshape(-1,d*ksz*ksz), kern)).reshape(batches,out_row,out_col,num_ker)"
   ]
  },
  {
   "cell_type": "code",
   "execution_count": 96,
   "metadata": {},
   "outputs": [
    {
     "name": "stdout",
     "output_type": "stream",
     "text": [
      "931 ms ± 20.4 ms per loop (mean ± std. dev. of 7 runs, 1 loop each)\n"
     ]
    }
   ],
   "source": [
    "%timeit (np.dot(padded.take(bind).reshape(-1,d*ksz*ksz), kern)).reshape(batches,out_row,out_col,num_ker)"
   ]
  },
  {
   "cell_type": "code",
   "execution_count": 23,
   "metadata": {},
   "outputs": [
    {
     "data": {
      "text/plain": [
       "((4096, 288), (288, 128))"
      ]
     },
     "execution_count": 23,
     "metadata": {},
     "output_type": "execute_result"
    }
   ],
   "source": [
    "np.take(img,ind).shape,kern.shape"
   ]
  },
  {
   "cell_type": "code",
   "execution_count": 24,
   "metadata": {},
   "outputs": [
    {
     "data": {
      "text/plain": [
       "(4096, 128)"
      ]
     },
     "execution_count": 24,
     "metadata": {},
     "output_type": "execute_result"
    }
   ],
   "source": [
    "(np.dot(np.take(img,ind), kern)).shape"
   ]
  },
  {
   "cell_type": "code",
   "execution_count": 26,
   "metadata": {},
   "outputs": [],
   "source": [
    "ans=(np.dot(np.take(padded, bind).reshape(-1,d*ksz*ksz), kern)+b0).reshape(batches,out_row,out_col,num_ker)"
   ]
  },
  {
   "cell_type": "code",
   "execution_count": 27,
   "metadata": {
    "scrolled": true
   },
   "outputs": [
    {
     "data": {
      "text/plain": [
       "(128, 64, 64, 128)"
      ]
     },
     "execution_count": 27,
     "metadata": {},
     "output_type": "execute_result"
    }
   ],
   "source": [
    "ans.shape"
   ]
  },
  {
   "cell_type": "code",
   "execution_count": 1,
   "metadata": {},
   "outputs": [
    {
     "name": "stdout",
     "output_type": "stream",
     "text": [
      "Seed: 424\n"
     ]
    }
   ],
   "source": [
    "from nnet.layers import Layer,conv2d"
   ]
  },
  {
   "cell_type": "code",
   "execution_count": 2,
   "metadata": {},
   "outputs": [],
   "source": [
    "import cupy as cp\n",
    "import numpy as np"
   ]
  },
  {
   "cell_type": "code",
   "execution_count": 3,
   "metadata": {},
   "outputs": [],
   "source": [
    "def init_kernel_bias(num_inp_channels, kernel_size, num_kernels,mean=0,std=0.01):\n",
    "    shape = [num_inp_channels, kernel_size, kernel_size, num_kernels]\n",
    "    weights = std*np.random.randn(*shape) + mean\n",
    "    # weights/=np.sqrt(num_inp_channels)\n",
    "    bias = std*np.random.randn(1,num_kernels) + mean\n",
    "    return weights.astype(np.float32), bias.astype(np.float32)"
   ]
  },
  {
   "cell_type": "code",
   "execution_count": 4,
   "metadata": {},
   "outputs": [],
   "source": [
    "w0,b0=init_kernel_bias(num_inp_channels=32,kernel_size=3,num_kernels=64)"
   ]
  },
  {
   "cell_type": "code",
   "execution_count": 5,
   "metadata": {},
   "outputs": [],
   "source": [
    "inp=np.random.randn(128,60,60,32).astype(np.float32)"
   ]
  },
  {
   "cell_type": "code",
   "execution_count": 6,
   "metadata": {},
   "outputs": [
    {
     "data": {
      "text/plain": [
       "((128, 60, 60, 32), (32, 3, 3, 64))"
      ]
     },
     "execution_count": 6,
     "metadata": {},
     "output_type": "execute_result"
    }
   ],
   "source": [
    "inp.shape,w0.shape"
   ]
  },
  {
   "cell_type": "code",
   "execution_count": 7,
   "metadata": {},
   "outputs": [],
   "source": [
    "inpd=cp.asarray(inp.transpose(0,3,1,2))\n",
    "w0d=cp.asarray(w0.transpose(3,0,1,2))"
   ]
  },
  {
   "cell_type": "code",
   "execution_count": 8,
   "metadata": {},
   "outputs": [],
   "source": [
    "nk, c, kh, kw = w0d.shape\n",
    "bt, c, h, w = inpd.shape\n",
    "sy,sx = (1,1)\n",
    "ph,pw = (1,1)\n",
    "dy,dx = (1,1)\n",
    "out_h,out_w = (h,w)\n",
    "col = cp.empty((bt, c, kh, kw, out_h, out_w), dtype=inpd.dtype)\n",
    "colkern = cp.ElementwiseKernel(\n",
    "    'raw T inpd, int32 h, int32 w, int32 out_h, int32 out_w,'\n",
    "    'int32 kh, int32 kw, int32 sy, int32 sx, int32 ph, int32 pw,'\n",
    "    'int32 dy, int32 dx',\n",
    "    'T col',\n",
    "    '''\n",
    "       int c0 = i / (kh * kw * out_h * out_w);   // select channel\n",
    "       int ky = i / (kw * out_h * out_w) % kh;   // select kernel y\n",
    "       int kx = i / (out_h * out_w) % kw;        // select kernel x\n",
    "       int out_y = i / out_w % out_h;            // select output y\n",
    "       int out_x = i % out_w;                    // select output x\n",
    "       int in_y = ky * dy + out_y * sy - ph;\n",
    "       int in_x = kx * dx + out_x * sx - pw;\n",
    "       if (in_y >= 0 && in_y < h && in_x >= 0 && in_x < w) {    // if in image bounds\n",
    "         col = inpd[w * (in_y + h * c0) + in_x]; // choose pixel\n",
    "       } else {\n",
    "         col = 0;                                // pad with 0\n",
    "       }\n",
    "    ''',\n",
    "    'im2col')"
   ]
  },
  {
   "cell_type": "code",
   "execution_count": 48,
   "metadata": {
    "scrolled": true
   },
   "outputs": [],
   "source": [
    "flipped=w0d[:,::-1,::-1,:].transpose(3,1,2,0)"
   ]
  },
  {
   "cell_type": "code",
   "execution_count": 10,
   "metadata": {},
   "outputs": [
    {
     "data": {
      "text/plain": [
       "((128, 32, 3, 3, 60, 60), (64, 32, 3, 3))"
      ]
     },
     "execution_count": 10,
     "metadata": {},
     "output_type": "execute_result"
    }
   ],
   "source": [
    "col.shape,w0d.shape"
   ]
  },
  {
   "cell_type": "code",
   "execution_count": 15,
   "metadata": {},
   "outputs": [
    {
     "name": "stdout",
     "output_type": "stream",
     "text": [
      "CPU times: user 462 ms, sys: 345 µs, total: 462 ms\n",
      "Wall time: 461 ms\n"
     ]
    }
   ],
   "source": [
    "%%time\n",
    "global col\n",
    "col=colkern(inpd.reduced_view(),\n",
    "              h, w, out_h, out_w, kh, kw, sy, sx, ph, pw, dy, dx, col)\n",
    "outd=cp.tensordot(col, w0d, ((1, 2, 3), (1, 2, 3)))\n",
    "cp.cuda.Stream.null.synchronize()"
   ]
  },
  {
   "cell_type": "code",
   "execution_count": 16,
   "metadata": {
    "scrolled": false
   },
   "outputs": [
    {
     "data": {
      "text/plain": [
       "(128, 60, 60, 64)"
      ]
     },
     "execution_count": 16,
     "metadata": {},
     "output_type": "execute_result"
    }
   ],
   "source": [
    "outd.shape"
   ]
  },
  {
   "cell_type": "code",
   "execution_count": 17,
   "metadata": {},
   "outputs": [],
   "source": [
    "col=col.transpose(0,4,5,1,2,3)\n",
    "w0d=w0d.transpose(1,2,3,0)"
   ]
  },
  {
   "cell_type": "code",
   "execution_count": 18,
   "metadata": {},
   "outputs": [
    {
     "data": {
      "text/plain": [
       "((128, 60, 60, 32, 3, 3), (32, 3, 3, 64))"
      ]
     },
     "execution_count": 18,
     "metadata": {},
     "output_type": "execute_result"
    }
   ],
   "source": [
    "col.shape,w0d.shape"
   ]
  },
  {
   "cell_type": "code",
   "execution_count": 19,
   "metadata": {},
   "outputs": [],
   "source": [
    "c=conv2d(input_shape=(60,60,32),kernels=w0,biases=0)"
   ]
  },
  {
   "cell_type": "code",
   "execution_count": 23,
   "metadata": {},
   "outputs": [
    {
     "name": "stdout",
     "output_type": "stream",
     "text": [
      "CPU times: user 1.16 s, sys: 24.4 ms, total: 1.19 s\n",
      "Wall time: 358 ms\n"
     ]
    }
   ],
   "source": [
    "%%time\n",
    "out=c.forward(inp)"
   ]
  },
  {
   "cell_type": "code",
   "execution_count": 26,
   "metadata": {},
   "outputs": [
    {
     "data": {
      "text/plain": [
       "((128, 60, 60, 64), (128, 60, 60, 64))"
      ]
     },
     "execution_count": 26,
     "metadata": {},
     "output_type": "execute_result"
    }
   ],
   "source": [
    "outd.shape,out.shape"
   ]
  },
  {
   "cell_type": "code",
   "execution_count": 27,
   "metadata": {},
   "outputs": [
    {
     "data": {
      "text/plain": [
       "True"
      ]
     },
     "execution_count": 27,
     "metadata": {},
     "output_type": "execute_result"
    }
   ],
   "source": [
    "np.allclose(out,outd.get(),atol=1e-06/2)"
   ]
  },
  {
   "cell_type": "code",
   "execution_count": 28,
   "metadata": {},
   "outputs": [
    {
     "data": {
      "text/plain": [
       "((128, 60, 60, 32, 3, 3), (32, 3, 3, 64))"
      ]
     },
     "execution_count": 28,
     "metadata": {},
     "output_type": "execute_result"
    }
   ],
   "source": [
    "(128,60,60,32,3,3),c.kernels.shape"
   ]
  },
  {
   "cell_type": "code",
   "execution_count": 30,
   "metadata": {},
   "outputs": [],
   "source": [
    "col=cp.empty(c.coled.shape,dtype=cp.float32)\n",
    "dpadded=cp.asarray(c.padded)\n",
    "dind=cp.asarray(c.ind.astype(np.int32,copy=False))"
   ]
  },
  {
   "cell_type": "code",
   "execution_count": 31,
   "metadata": {},
   "outputs": [],
   "source": [
    "dbind=cp.broadcast_to(dind,(128,*dind.shape))"
   ]
  },
  {
   "cell_type": "code",
   "execution_count": 32,
   "metadata": {
    "scrolled": true
   },
   "outputs": [
    {
     "data": {
      "text/plain": [
       "((460800, 288), (3600, 288), (128, 3600, 288))"
      ]
     },
     "execution_count": 32,
     "metadata": {},
     "output_type": "execute_result"
    }
   ],
   "source": [
    "col.shape,c.ind.shape,dbind.shape"
   ]
  },
  {
   "cell_type": "code",
   "execution_count": 33,
   "metadata": {},
   "outputs": [],
   "source": [
    "dkern=cp.asarray(c.kern)"
   ]
  },
  {
   "cell_type": "code",
   "execution_count": 34,
   "metadata": {},
   "outputs": [],
   "source": [
    "svimkern=cp.ElementwiseKernel(\n",
    "    'raw int32 bind,raw T padded,int32 indsz,int32 imgsz',\n",
    "    'T col',\n",
    "    '''\n",
    "    int n = i/indsz;\n",
    "    col = padded[bind[i]+n*imgsz];\n",
    "    ''',\n",
    "    'assign')"
   ]
  },
  {
   "cell_type": "code",
   "execution_count": 38,
   "metadata": {
    "scrolled": true
   },
   "outputs": [
    {
     "name": "stdout",
     "output_type": "stream",
     "text": [
      "CPU times: user 546 ms, sys: 541 µs, total: 547 ms\n",
      "Wall time: 547 ms\n"
     ]
    }
   ],
   "source": [
    "%%time\n",
    "svimkern(dbind,dpadded,dind.size,dpadded[0].size,col)\n",
    "dout=col.dot(dkern)\n",
    "cp.cuda.Stream.null.synchronize()"
   ]
  },
  {
   "cell_type": "code",
   "execution_count": 39,
   "metadata": {},
   "outputs": [
    {
     "data": {
      "text/plain": [
       "array(True)"
      ]
     },
     "execution_count": 39,
     "metadata": {},
     "output_type": "execute_result"
    }
   ],
   "source": [
    "(dout.ravel()==outd.ravel()).all()"
   ]
  },
  {
   "cell_type": "code",
   "execution_count": 40,
   "metadata": {
    "scrolled": false
   },
   "outputs": [
    {
     "data": {
      "text/plain": [
       "((460800, 288), (288, 64))"
      ]
     },
     "execution_count": 40,
     "metadata": {},
     "output_type": "execute_result"
    }
   ],
   "source": [
    "col.shape,c.kern.shape"
   ]
  },
  {
   "cell_type": "code",
   "execution_count": null,
   "metadata": {},
   "outputs": [],
   "source": []
  }
 ],
 "metadata": {
  "kernelspec": {
   "display_name": "Python 3",
   "language": "python",
   "name": "python3"
  },
  "language_info": {
   "codemirror_mode": {
    "name": "ipython",
    "version": 3
   },
   "file_extension": ".py",
   "mimetype": "text/x-python",
   "name": "python",
   "nbconvert_exporter": "python",
   "pygments_lexer": "ipython3",
   "version": "3.8.2"
  }
 },
 "nbformat": 4,
 "nbformat_minor": 2
}
