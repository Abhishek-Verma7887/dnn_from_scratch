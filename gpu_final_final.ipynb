{
 "cells": [
  {
   "cell_type": "code",
   "execution_count": 1,
   "metadata": {},
   "outputs": [],
   "source": [
    "import ctypes\n",
    "import numpy as np\n",
    "from numba import cuda"
   ]
  },
  {
   "cell_type": "code",
   "execution_count": 2,
   "metadata": {},
   "outputs": [
    {
     "data": {
      "text/plain": [
       "0.03814697265625"
      ]
     },
     "execution_count": 2,
     "metadata": {},
     "output_type": "execute_result"
    }
   ],
   "source": [
    "# a=np.arange(6).reshape(2,3).astype(np.float32)\n",
    "a = np.random.randn(100,100).astype(np.float32)\n",
    "# ad=a.ravel('F')\n",
    "a=np.asfortranarray(a)\n",
    "a.nbytes/1024/1024"
   ]
  },
  {
   "cell_type": "code",
   "execution_count": 3,
   "metadata": {},
   "outputs": [
    {
     "data": {
      "text/plain": [
       "0.03814697265625"
      ]
     },
     "execution_count": 3,
     "metadata": {},
     "output_type": "execute_result"
    }
   ],
   "source": [
    "# b=np.arange(12).reshape(3,4).astype(np.float32)\n",
    "b = np.random.randn(100,100).astype(np.float32)\n",
    "# bd=b.ravel('F')\n",
    "b=np.asfortranarray(b)\n",
    "b.nbytes/1024/1024"
   ]
  },
  {
   "cell_type": "code",
   "execution_count": 4,
   "metadata": {},
   "outputs": [
    {
     "data": {
      "text/plain": [
       "0.03814697265625"
      ]
     },
     "execution_count": 4,
     "metadata": {},
     "output_type": "execute_result"
    }
   ],
   "source": [
    "c=np.empty((a.shape[0],b.shape[1]),dtype=np.float32,order='F')\n",
    "# cd=c.ravel('F')\n",
    "c=np.asfortranarray(c)\n",
    "c.nbytes/1024/1024"
   ]
  },
  {
   "cell_type": "code",
   "execution_count": 5,
   "metadata": {
    "scrolled": true
   },
   "outputs": [
    {
     "data": {
      "text/plain": [
       "((100, 100), (100, 100), (100, 100))"
      ]
     },
     "execution_count": 5,
     "metadata": {},
     "output_type": "execute_result"
    }
   ],
   "source": [
    "a.shape,b.shape,c.shape"
   ]
  },
  {
   "cell_type": "code",
   "execution_count": 10,
   "metadata": {},
   "outputs": [],
   "source": [
    "sgemm=ctypes.CDLL('nnet/libsgemm.so')\n",
    "al,bet,b0=1,0,np.array([0],dtype=np.float32)"
   ]
  },
  {
   "cell_type": "code",
   "execution_count": 11,
   "metadata": {},
   "outputs": [
    {
     "data": {
      "text/plain": [
       "array([0.], dtype=float32)"
      ]
     },
     "execution_count": 11,
     "metadata": {},
     "output_type": "execute_result"
    }
   ],
   "source": [
    "b0"
   ]
  },
  {
   "cell_type": "code",
   "execution_count": 12,
   "metadata": {},
   "outputs": [
    {
     "name": "stdout",
     "output_type": "stream",
     "text": [
      "CPU times: user 2.43 ms, sys: 507 µs, total: 2.93 ms\n",
      "Wall time: 2.36 ms\n"
     ]
    }
   ],
   "source": [
    "%%time\n",
    "da=cuda.to_device(a)\n",
    "db=cuda.to_device(b)\n",
    "# dc=cuda.to_device(cf)\n",
    "dc=cuda.device_array_like(c)"
   ]
  },
  {
   "cell_type": "code",
   "execution_count": 13,
   "metadata": {},
   "outputs": [
    {
     "name": "stdout",
     "output_type": "stream",
     "text": [
      "100 100 100\n",
      "100 100 100\n"
     ]
    }
   ],
   "source": [
    "m=a.shape[0]\n",
    "n=b.shape[1]\n",
    "k=b.shape[0]\n",
    "lda=a.shape[0]\n",
    "ldb=b.shape[0]\n",
    "ldc=c.shape[0]\n",
    "print(m,n,k)\n",
    "print(lda,ldb,ldc)"
   ]
  },
  {
   "cell_type": "code",
   "execution_count": 14,
   "metadata": {},
   "outputs": [
    {
     "data": {
      "text/plain": [
       "((100, 100), (100, 100), (100, 100))"
      ]
     },
     "execution_count": 14,
     "metadata": {},
     "output_type": "execute_result"
    }
   ],
   "source": [
    "da.shape,db.shape,dc.shape"
   ]
  },
  {
   "cell_type": "code",
   "execution_count": 15,
   "metadata": {},
   "outputs": [
    {
     "name": "stdout",
     "output_type": "stream",
     "text": [
      "CPU times: user 198 ms, sys: 62.4 ms, total: 261 ms\n",
      "Wall time: 259 ms\n"
     ]
    },
    {
     "data": {
      "text/plain": [
       "0"
      ]
     },
     "execution_count": 15,
     "metadata": {},
     "output_type": "execute_result"
    }
   ],
   "source": [
    "%%time\n",
    "sgemm.createHandle()"
   ]
  },
  {
   "cell_type": "code",
   "execution_count": 16,
   "metadata": {},
   "outputs": [
    {
     "name": "stdout",
     "output_type": "stream",
     "text": [
      "CPU times: user 323 µs, sys: 78 µs, total: 401 µs\n",
      "Wall time: 333 µs\n"
     ]
    },
    {
     "data": {
      "text/plain": [
       "0"
      ]
     },
     "execution_count": 16,
     "metadata": {},
     "output_type": "execute_result"
    }
   ],
   "source": [
    "%%time\n",
    "sgemm.gemm(ord('N'),ord('N'),\n",
    "           m,n,k,\n",
    "           ctypes.c_float(al),\n",
    "           da.device_ctypes_pointer, lda,\n",
    "           db.device_ctypes_pointer, ldb,\n",
    "           ctypes.c_float(bet),\n",
    "           dc.device_ctypes_pointer, ldc,\n",
    "           ctypes.c_void_p(b0.ctypes.data))"
   ]
  },
  {
   "cell_type": "code",
   "execution_count": 17,
   "metadata": {
    "scrolled": true
   },
   "outputs": [
    {
     "name": "stdout",
     "output_type": "stream",
     "text": [
      "CPU times: user 279 µs, sys: 66 µs, total: 345 µs\n",
      "Wall time: 245 µs\n"
     ]
    },
    {
     "data": {
      "text/plain": [
       "0"
      ]
     },
     "execution_count": 17,
     "metadata": {},
     "output_type": "execute_result"
    }
   ],
   "source": [
    "%%time\n",
    "sgemm.destroyHandle()"
   ]
  },
  {
   "cell_type": "code",
   "execution_count": 18,
   "metadata": {},
   "outputs": [
    {
     "name": "stdout",
     "output_type": "stream",
     "text": [
      "CPU times: user 34 ms, sys: 1.14 ms, total: 35.2 ms\n",
      "Wall time: 15.4 ms\n"
     ]
    }
   ],
   "source": [
    "%%time\n",
    "d=a.dot(b)"
   ]
  },
  {
   "cell_type": "code",
   "execution_count": 19,
   "metadata": {},
   "outputs": [],
   "source": [
    "cd=dc.copy_to_host().reshape(d.shape,order='A')"
   ]
  },
  {
   "cell_type": "code",
   "execution_count": 20,
   "metadata": {
    "scrolled": true
   },
   "outputs": [
    {
     "data": {
      "text/plain": [
       "(0.01379291, 1.379291e-06, 1.5258789e-05)"
      ]
     },
     "execution_count": 20,
     "metadata": {},
     "output_type": "execute_result"
    }
   ],
   "source": [
    "mcd=d-cd\n",
    "abs(mcd).sum(),abs(mcd).mean(),abs(mcd).max()"
   ]
  },
  {
   "cell_type": "code",
   "execution_count": 35,
   "metadata": {},
   "outputs": [
    {
     "data": {
      "text/plain": [
       "array([[-9.5367432e-07, -1.9073486e-06,  3.8146973e-06, ...,\n",
       "         4.7683716e-07,  7.1525574e-07,  0.0000000e+00],\n",
       "       [-2.6226044e-06, -1.9073486e-06,  1.9073486e-06, ...,\n",
       "         3.8146973e-06,  2.3841858e-07,  1.9073486e-06],\n",
       "       [-2.3841858e-06,  4.7683716e-07,  2.3841858e-06, ...,\n",
       "         7.1525574e-07, -9.5367432e-07,  0.0000000e+00],\n",
       "       ...,\n",
       "       [ 2.8610229e-06,  1.9073486e-06,  3.2782555e-07, ...,\n",
       "        -9.5367432e-07, -1.9073486e-06,  1.9073486e-06],\n",
       "       [-1.9073486e-06, -4.7683716e-07, -4.7683716e-07, ...,\n",
       "         9.5367432e-07, -2.3841858e-06, -1.4305115e-06],\n",
       "       [-2.8610229e-06,  0.0000000e+00, -1.9073486e-06, ...,\n",
       "        -1.1920929e-07, -2.3841858e-07,  3.8146973e-06]], dtype=float32)"
      ]
     },
     "execution_count": 35,
     "metadata": {},
     "output_type": "execute_result"
    }
   ],
   "source": [
    "mcd"
   ]
  },
  {
   "cell_type": "code",
   "execution_count": 31,
   "metadata": {},
   "outputs": [
    {
     "data": {
      "text/plain": [
       "array([ 9.53674316e-07, -1.48842688e+01, -2.64646473e+01, -1.00968142e+01,\n",
       "       -5.83914280e+00,  1.72445908e+01, -3.18626356e+00,  1.07400637e+01,\n",
       "        3.34959412e+00, -6.38924742e+00, -4.84065151e+00,  1.43555031e+01,\n",
       "       -2.08206444e+01, -2.00208569e+01, -1.34401178e+01,  2.43318100e+01,\n",
       "        1.77149487e+00,  1.10745869e+01, -3.41328049e+01, -9.46953964e+00,\n",
       "       -1.13147974e+01,  8.39394379e+00,  3.38804893e+01, -9.31696177e-01,\n",
       "        1.56494408e+01,  3.70879478e+01,  1.57008915e+01, -2.19927883e+01,\n",
       "       -2.88996792e+00, -1.14193726e+01, -3.75335956e+00, -1.73858719e+01,\n",
       "       -2.08504105e+01, -2.00567722e-01, -1.28826904e+01, -4.89148521e+00,\n",
       "       -8.56719780e+00, -4.71271181e+00,  1.20205288e+01,  3.79198790e+00,\n",
       "       -1.20845747e+00, -2.79968357e+00,  5.16406155e+00, -7.06129789e+00,\n",
       "        1.02989769e+01,  5.64295387e+00, -3.52496386e+00, -1.70666993e+00,\n",
       "       -1.17164147e+00, -1.23304367e+01, -1.46896877e+01,  2.35910301e+01,\n",
       "        2.70744538e+00,  6.33953285e+00, -7.62034988e+00,  9.19861794e-01,\n",
       "        2.44216042e+01,  2.07283287e+01, -2.68671846e+00,  3.66539812e+00,\n",
       "        3.27923012e+00, -3.71713877e+00, -1.96694698e+01, -4.97674656e+00,\n",
       "       -5.44385850e-01,  1.43335199e+00, -7.97520924e+00,  2.15408754e+00,\n",
       "        2.68464813e+01, -1.34702778e+00, -3.63786817e-01, -1.17862005e+01,\n",
       "       -2.46681643e+00,  7.17306232e+00,  4.97521448e+00,  1.71224632e+01,\n",
       "       -1.37175102e+01,  8.43758583e+00,  5.81400537e+00, -1.72977371e+01,\n",
       "        2.15059624e+01, -1.93465939e+01, -7.43723869e+00,  3.40357542e+00,\n",
       "       -1.26315975e+01,  4.07148361e+00, -2.24611797e+01,  8.89111805e+00,\n",
       "        7.84607124e+00, -1.87721405e+01, -7.88062477e+00, -2.19262161e+01,\n",
       "        1.18387070e+01, -3.49127817e+00, -1.26666260e+01,  3.43072534e+00,\n",
       "       -1.30139790e+01,  1.42598782e+01,  1.49873667e+01,  2.38051224e+01],\n",
       "      dtype=float32)"
      ]
     },
     "execution_count": 31,
     "metadata": {},
     "output_type": "execute_result"
    }
   ],
   "source": [
    "(cd.ravel('K')-d.ravel('K'))[:100]"
   ]
  },
  {
   "cell_type": "code",
   "execution_count": 42,
   "metadata": {},
   "outputs": [
    {
     "data": {
      "text/plain": [
       "True"
      ]
     },
     "execution_count": 42,
     "metadata": {},
     "output_type": "execute_result"
    }
   ],
   "source": [
    "np.allclose(d,cd)"
   ]
  },
  {
   "cell_type": "code",
   "execution_count": null,
   "metadata": {},
   "outputs": [],
   "source": []
  },
  {
   "cell_type": "code",
   "execution_count": null,
   "metadata": {},
   "outputs": [],
   "source": []
  },
  {
   "cell_type": "code",
   "execution_count": 19,
   "metadata": {},
   "outputs": [
    {
     "ename": "KeyboardInterrupt",
     "evalue": "",
     "output_type": "error",
     "traceback": [
      "\u001b[0;31m---------------------------------------------------------------------------\u001b[0m",
      "\u001b[0;31mKeyboardInterrupt\u001b[0m                         Traceback (most recent call last)",
      "\u001b[0;32m<ipython-input-19-c64d81a1700c>\u001b[0m in \u001b[0;36m<module>\u001b[0;34m\u001b[0m\n\u001b[1;32m      1\u001b[0m \u001b[0mgg\u001b[0m\u001b[0;34m=\u001b[0m\u001b[0mnp\u001b[0m\u001b[0;34m.\u001b[0m\u001b[0mempty\u001b[0m\u001b[0;34m(\u001b[0m\u001b[0;34m(\u001b[0m\u001b[0;36m11900\u001b[0m\u001b[0;34m,\u001b[0m\u001b[0;36m20000\u001b[0m\u001b[0;34m)\u001b[0m\u001b[0;34m,\u001b[0m\u001b[0mdtype\u001b[0m\u001b[0;34m=\u001b[0m\u001b[0mnp\u001b[0m\u001b[0;34m.\u001b[0m\u001b[0mfloat32\u001b[0m\u001b[0;34m)\u001b[0m\u001b[0;34m\u001b[0m\u001b[0;34m\u001b[0m\u001b[0m\n\u001b[0;32m----> 2\u001b[0;31m \u001b[0mgg\u001b[0m\u001b[0;34m[\u001b[0m\u001b[0;34m:\u001b[0m\u001b[0;34m]\u001b[0m\u001b[0;34m=\u001b[0m\u001b[0mnp\u001b[0m\u001b[0;34m.\u001b[0m\u001b[0mrandom\u001b[0m\u001b[0;34m.\u001b[0m\u001b[0mrand\u001b[0m\u001b[0;34m(\u001b[0m\u001b[0;34m*\u001b[0m\u001b[0mgg\u001b[0m\u001b[0;34m.\u001b[0m\u001b[0mshape\u001b[0m\u001b[0;34m)\u001b[0m\u001b[0;34m\u001b[0m\u001b[0;34m\u001b[0m\u001b[0m\n\u001b[0m\u001b[1;32m      3\u001b[0m \u001b[0mgg\u001b[0m\u001b[0;34m.\u001b[0m\u001b[0mnbytes\u001b[0m\u001b[0;34m/\u001b[0m\u001b[0;36m1024\u001b[0m\u001b[0;34m/\u001b[0m\u001b[0;36m1024\u001b[0m\u001b[0;34m\u001b[0m\u001b[0;34m\u001b[0m\u001b[0m\n",
      "\u001b[0;31mKeyboardInterrupt\u001b[0m: "
     ]
    }
   ],
   "source": [
    "gg=np.empty((11900,20000),dtype=np.float32)\n",
    "gg[:]=np.random.rand(*gg.shape)\n",
    "gg.nbytes/1024/1024"
   ]
  },
  {
   "cell_type": "code",
   "execution_count": null,
   "metadata": {
    "scrolled": true
   },
   "outputs": [],
   "source": [
    "%%time\n",
    "dgg=cuda.to_device(gg)#.T.reshape(gg.shape)"
   ]
  },
  {
   "cell_type": "code",
   "execution_count": null,
   "metadata": {},
   "outputs": [],
   "source": [
    "%%time\n",
    "dgt=cuda.device_array_like(gg)"
   ]
  },
  {
   "cell_type": "code",
   "execution_count": null,
   "metadata": {},
   "outputs": [],
   "source": [
    "sgemm=ctypes.CDLL('nnet/libsgemm.so')\n",
    "al,bet=1,0\n",
    "m,n=gg.shape"
   ]
  },
  {
   "cell_type": "code",
   "execution_count": null,
   "metadata": {},
   "outputs": [],
   "source": [
    "%%timeit\n",
    "sgemm.createHandle()\n",
    "sgemm.transpose(dgg.device_ctypes_pointer,\n",
    "                dgt.device_ctypes_pointer,\n",
    "                ctypes.c_int(n),ctypes.c_int(m),\n",
    "                ctypes.c_float(al),ctypes.c_float(bet))\n",
    "sgemm.destroyHandle()"
   ]
  },
  {
   "cell_type": "code",
   "execution_count": null,
   "metadata": {},
   "outputs": [],
   "source": [
    "%%time\n",
    "(dgt.copy_to_host().ravel('K')==gg.ravel('F')).all()"
   ]
  },
  {
   "cell_type": "code",
   "execution_count": null,
   "metadata": {},
   "outputs": [],
   "source": [
    "%%time\n",
    "gg.ravel('F')"
   ]
  },
  {
   "cell_type": "code",
   "execution_count": null,
   "metadata": {},
   "outputs": [],
   "source": [
    "del dgg\n",
    "del dgt"
   ]
  },
  {
   "cell_type": "code",
   "execution_count": null,
   "metadata": {},
   "outputs": [],
   "source": []
  }
 ],
 "metadata": {
  "kernelspec": {
   "display_name": "Python 3",
   "language": "python",
   "name": "python3"
  },
  "language_info": {
   "codemirror_mode": {
    "name": "ipython",
    "version": 3
   },
   "file_extension": ".py",
   "mimetype": "text/x-python",
   "name": "python",
   "nbconvert_exporter": "python",
   "pygments_lexer": "ipython3",
   "version": "3.7.4"
  }
 },
 "nbformat": 4,
 "nbformat_minor": 2
}
