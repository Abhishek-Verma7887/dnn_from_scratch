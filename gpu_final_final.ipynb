{
 "cells": [
  {
   "cell_type": "code",
   "execution_count": 1,
   "metadata": {},
   "outputs": [],
   "source": [
    "import ctypes\n",
    "import numpy as np\n",
    "from numba import cuda"
   ]
  },
  {
   "cell_type": "code",
   "execution_count": 3,
   "metadata": {},
   "outputs": [],
   "source": [
    "# a=np.arange(6).reshape(2,3).astype(np.float32)\n",
    "a = np.random.randn(2,3).astype(np.float32)\n",
    "# ad=a.ravel('F')\n",
    "af=np.asfortranarray(a)"
   ]
  },
  {
   "cell_type": "code",
   "execution_count": 4,
   "metadata": {},
   "outputs": [],
   "source": [
    "# b=np.arange(12).reshape(3,4).astype(np.float32)\n",
    "b = np.random.randn(3,4).astype(np.float32)\n",
    "# bd=b.ravel('F')\n",
    "bf=np.asfortranarray(b)"
   ]
  },
  {
   "cell_type": "code",
   "execution_count": 5,
   "metadata": {},
   "outputs": [],
   "source": [
    "c=np.empty((a.shape[0],b.shape[1]),dtype=np.float32)\n",
    "# cd=c.ravel('F')\n",
    "cf=np.asfortranarray(c)"
   ]
  },
  {
   "cell_type": "code",
   "execution_count": 6,
   "metadata": {
    "scrolled": true
   },
   "outputs": [
    {
     "data": {
      "text/plain": [
       "((2, 3), (3, 4), (2, 4))"
      ]
     },
     "execution_count": 6,
     "metadata": {},
     "output_type": "execute_result"
    }
   ],
   "source": [
    "af.shape,bf.shape,cf.shape"
   ]
  },
  {
   "cell_type": "code",
   "execution_count": 7,
   "metadata": {},
   "outputs": [
    {
     "data": {
      "text/plain": [
       "((2, 3), (3, 4), (2, 4))"
      ]
     },
     "execution_count": 7,
     "metadata": {},
     "output_type": "execute_result"
    }
   ],
   "source": [
    "a.shape,b.shape,c.shape"
   ]
  },
  {
   "cell_type": "code",
   "execution_count": 8,
   "metadata": {},
   "outputs": [],
   "source": [
    "sgemm=ctypes.CDLL('libsgemm.so')\n",
    "al,bet,b0=1,0,np.arange(1,dtype=np.float32)"
   ]
  },
  {
   "cell_type": "code",
   "execution_count": 9,
   "metadata": {},
   "outputs": [
    {
     "name": "stdout",
     "output_type": "stream",
     "text": [
      "200 400 300\n",
      "200 300 200\n"
     ]
    }
   ],
   "source": [
    "m=a.shape[0]\n",
    "n=b.shape[1]\n",
    "k=b.shape[0]\n",
    "lda=a.shape[0]\n",
    "ldb=b.shape[0]\n",
    "ldc=c.shape[0]\n",
    "print(m,n,k)\n",
    "print(lda,ldb,ldc)"
   ]
  },
  {
   "cell_type": "code",
   "execution_count": 115,
   "metadata": {},
   "outputs": [
    {
     "name": "stdout",
     "output_type": "stream",
     "text": [
      "CPU times: user 551 ms, sys: 3.09 ms, total: 554 ms\n",
      "Wall time: 555 ms\n"
     ]
    }
   ],
   "source": [
    "%%time\n",
    "da=cuda.to_device(a).T\n",
    "db=cuda.to_device(b).T\n",
    "dc=cuda.to_device(c).T"
   ]
  },
  {
   "cell_type": "code",
   "execution_count": 116,
   "metadata": {},
   "outputs": [
    {
     "name": "stdout",
     "output_type": "stream",
     "text": [
      "CPU times: user 3.07 ms, sys: 0 ns, total: 3.07 ms\n",
      "Wall time: 1.79 ms\n"
     ]
    },
    {
     "data": {
      "text/plain": [
       "0"
      ]
     },
     "execution_count": 116,
     "metadata": {},
     "output_type": "execute_result"
    }
   ],
   "source": [
    "%%time\n",
    "sgemm.createHandle()\n",
    "sgemm.gemm(ord('N'),ord('N'),\n",
    "           da.device_ctypes_pointer,\n",
    "           db.device_ctypes_pointer,\n",
    "           dc.device_ctypes_pointer,\n",
    "           ctypes.c_int(m),ctypes.c_int(n),ctypes.c_int(k),\n",
    "           ctypes.c_int(lda),ctypes.c_int(ldb),ctypes.c_int(ldc),\n",
    "           ctypes.c_float(al),ctypes.c_float(bet),\n",
    "           ctypes.c_void_p(b0.ctypes.data))\n",
    "sgemm.destroyHandle()"
   ]
  },
  {
   "cell_type": "code",
   "execution_count": 117,
   "metadata": {},
   "outputs": [],
   "source": [
    "# %%time\n",
    "# sgemm.gemm(ord('N'),ord('N'),ctypes.c_void_p(ad.ctypes.data),ctypes.c_void_p(bd.ctypes.data),ctypes.c_void_p(cd.ctypes.data),ctypes.c_int(m),ctypes.c_int(n),ctypes.c_int(k),ctypes.c_int(lda),ctypes.c_int(ldb),ctypes.c_int(ldc),ctypes.c_float(al),ctypes.c_float(bet),ctypes.c_void_p(b0.ctypes.data))"
   ]
  },
  {
   "cell_type": "code",
   "execution_count": 118,
   "metadata": {},
   "outputs": [
    {
     "name": "stdout",
     "output_type": "stream",
     "text": [
      "CPU times: user 24.8 ms, sys: 0 ns, total: 24.8 ms\n",
      "Wall time: 8.59 ms\n"
     ]
    }
   ],
   "source": [
    "%%time\n",
    "d=a.dot(b)"
   ]
  },
  {
   "cell_type": "code",
   "execution_count": 119,
   "metadata": {},
   "outputs": [
    {
     "data": {
      "text/plain": [
       "array([  0, -15,  35, ...,  -4, -31, -21])"
      ]
     },
     "execution_count": 119,
     "metadata": {},
     "output_type": "execute_result"
    }
   ],
   "source": [
    "d.ravel(order='F').astype(int)"
   ]
  },
  {
   "cell_type": "code",
   "execution_count": 120,
   "metadata": {},
   "outputs": [
    {
     "data": {
      "text/plain": [
       "((300, 200), (400, 300), (400, 200))"
      ]
     },
     "execution_count": 120,
     "metadata": {},
     "output_type": "execute_result"
    }
   ],
   "source": [
    "da.shape,db.shape,dc.shape"
   ]
  },
  {
   "cell_type": "code",
   "execution_count": 121,
   "metadata": {},
   "outputs": [],
   "source": [
    "cd=dc.T.copy_to_host()"
   ]
  },
  {
   "cell_type": "code",
   "execution_count": 124,
   "metadata": {
    "scrolled": true
   },
   "outputs": [
    {
     "data": {
      "text/plain": [
       "(0.0, 0.0, 0.0)"
      ]
     },
     "execution_count": 124,
     "metadata": {},
     "output_type": "execute_result"
    }
   ],
   "source": [
    "abs(d-cd).sum(),abs(d-cd).mean(),abs(d-cd).max()"
   ]
  },
  {
   "cell_type": "code",
   "execution_count": 122,
   "metadata": {},
   "outputs": [
    {
     "data": {
      "text/plain": [
       "array([[ -0.3370665, -29.300005 ,  24.00332  , ...,  21.63932  ,\n",
       "          8.458516 ,  22.585714 ],\n",
       "       [-15.905303 ,   4.8357763,   1.8553208, ...,   8.749517 ,\n",
       "          5.1911225,  19.564985 ],\n",
       "       [ 35.001812 ,   1.5046694,  -6.926655 , ..., -54.81104  ,\n",
       "          8.110646 ,  40.04506  ],\n",
       "       ...,\n",
       "       [ -9.220782 ,  11.580519 ,  -9.026348 , ...,   0.715599 ,\n",
       "        -18.861017 ,  -4.322012 ],\n",
       "       [-11.318473 ,  -6.420425 ,   5.778888 , ...,  24.769531 ,\n",
       "         18.909126 , -31.591375 ],\n",
       "       [  8.513818 ,   1.2622813,   8.707471 , ...,   3.2444088,\n",
       "         -5.0013027, -21.488716 ]], dtype=float32)"
      ]
     },
     "execution_count": 122,
     "metadata": {},
     "output_type": "execute_result"
    }
   ],
   "source": [
    "cd"
   ]
  },
  {
   "cell_type": "code",
   "execution_count": 123,
   "metadata": {},
   "outputs": [
    {
     "data": {
      "text/plain": [
       "array([[ -0.3370665, -29.300005 ,  24.00332  , ...,  21.63932  ,\n",
       "          8.458516 ,  22.585714 ],\n",
       "       [-15.905303 ,   4.8357763,   1.8553208, ...,   8.749517 ,\n",
       "          5.1911225,  19.564985 ],\n",
       "       [ 35.001812 ,   1.5046694,  -6.926655 , ..., -54.81104  ,\n",
       "          8.110646 ,  40.04506  ],\n",
       "       ...,\n",
       "       [ -9.220782 ,  11.580519 ,  -9.026348 , ...,   0.715599 ,\n",
       "        -18.861017 ,  -4.322012 ],\n",
       "       [-11.318473 ,  -6.420425 ,   5.778888 , ...,  24.769531 ,\n",
       "         18.909126 , -31.591375 ],\n",
       "       [  8.513818 ,   1.2622813,   8.707471 , ...,   3.2444088,\n",
       "         -5.0013027, -21.488716 ]], dtype=float32)"
      ]
     },
     "execution_count": 123,
     "metadata": {},
     "output_type": "execute_result"
    }
   ],
   "source": [
    "d"
   ]
  },
  {
   "cell_type": "code",
   "execution_count": 90,
   "metadata": {},
   "outputs": [
    {
     "data": {
      "text/plain": [
       "True"
      ]
     },
     "execution_count": 90,
     "metadata": {},
     "output_type": "execute_result"
    }
   ],
   "source": [
    "np.allclose(d,cd)"
   ]
  },
  {
   "cell_type": "code",
   "execution_count": null,
   "metadata": {},
   "outputs": [],
   "source": []
  },
  {
   "cell_type": "code",
   "execution_count": null,
   "metadata": {},
   "outputs": [],
   "source": []
  },
  {
   "cell_type": "code",
   "execution_count": null,
   "metadata": {},
   "outputs": [],
   "source": []
  },
  {
   "cell_type": "code",
   "execution_count": 2,
   "metadata": {},
   "outputs": [
    {
     "data": {
      "text/plain": [
       "907.89794921875"
      ]
     },
     "execution_count": 2,
     "metadata": {},
     "output_type": "execute_result"
    }
   ],
   "source": [
    "gg=np.empty((11900,20000),dtype=np.float32)\n",
    "gg[:]=np.random.rand(*gg.shape)\n",
    "gg.size*4/1024/1024"
   ]
  },
  {
   "cell_type": "code",
   "execution_count": 3,
   "metadata": {
    "scrolled": true
   },
   "outputs": [
    {
     "name": "stdout",
     "output_type": "stream",
     "text": [
      "CPU times: user 428 ms, sys: 194 ms, total: 622 ms\n",
      "Wall time: 662 ms\n"
     ]
    }
   ],
   "source": [
    "%%time\n",
    "dgg=cuda.to_device(gg)#.T.reshape(gg.shape)"
   ]
  },
  {
   "cell_type": "code",
   "execution_count": 4,
   "metadata": {},
   "outputs": [
    {
     "name": "stdout",
     "output_type": "stream",
     "text": [
      "CPU times: user 0 ns, sys: 2.36 ms, total: 2.36 ms\n",
      "Wall time: 1.74 ms\n"
     ]
    }
   ],
   "source": [
    "%%time\n",
    "dgt=cuda.device_array_like(gg)"
   ]
  },
  {
   "cell_type": "code",
   "execution_count": 5,
   "metadata": {},
   "outputs": [],
   "source": [
    "sgemm=ctypes.CDLL('libsgemm.so')\n",
    "al,bet=1,0\n",
    "m,n=gg.shape"
   ]
  },
  {
   "cell_type": "code",
   "execution_count": 6,
   "metadata": {},
   "outputs": [
    {
     "name": "stdout",
     "output_type": "stream",
     "text": [
      "CPU times: user 294 ms, sys: 108 ms, total: 402 ms\n",
      "Wall time: 534 ms\n"
     ]
    }
   ],
   "source": [
    "%%time\n",
    "sgemm.createHandle()\n",
    "sgemm.transpose(dgg.device_ctypes_pointer,\n",
    "                dgt.device_ctypes_pointer,\n",
    "                ctypes.c_int(n),ctypes.c_int(m),\n",
    "                ctypes.c_float(al),ctypes.c_float(bet))\n",
    "sgemm.destroyHandle()"
   ]
  },
  {
   "cell_type": "code",
   "execution_count": 7,
   "metadata": {},
   "outputs": [
    {
     "data": {
      "text/plain": [
       "True"
      ]
     },
     "execution_count": 7,
     "metadata": {},
     "output_type": "execute_result"
    }
   ],
   "source": [
    "(dgt.copy_to_host().ravel('K')==gg.ravel('F')).all()"
   ]
  },
  {
   "cell_type": "code",
   "execution_count": 12,
   "metadata": {},
   "outputs": [],
   "source": [
    "del dgg\n",
    "del dgt"
   ]
  },
  {
   "cell_type": "code",
   "execution_count": null,
   "metadata": {},
   "outputs": [],
   "source": []
  }
 ],
 "metadata": {
  "kernelspec": {
   "display_name": "Python 3",
   "language": "python",
   "name": "python3"
  },
  "language_info": {
   "codemirror_mode": {
    "name": "ipython",
    "version": 3
   },
   "file_extension": ".py",
   "mimetype": "text/x-python",
   "name": "python",
   "nbconvert_exporter": "python",
   "pygments_lexer": "ipython3",
   "version": "3.7.3"
  }
 },
 "nbformat": 4,
 "nbformat_minor": 2
}
